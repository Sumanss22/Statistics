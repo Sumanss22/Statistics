{
 "cells": [
  {
   "cell_type": "code",
   "execution_count": 3,
   "id": "e2e4ef0f-3ece-4cb6-8bd7-0c8556ea0516",
   "metadata": {},
   "outputs": [],
   "source": [
    "import numpy as np\n",
    "import pandas as pd\n",
    "import scipy.stats as stats\n",
    "import seaborn as sns"
   ]
  },
  {
   "cell_type": "markdown",
   "id": "1cf888f1",
   "metadata": {},
   "source": [
    "## Credit card processing\n",
    "Q1. Tom is working in a credit card processing company as a team leader. His team is responsible to validate certain data for new credit card applications. The time spent by his team on an application is normally distributed with average 300 minutes and standard deviation 40 minutes.Tom and his team worked on process improvement to reduce the time spent in processing new applications. After implementing the improvements, Tom checked the time spent by his team on randomly selected 25 new card applications. The average time spent is 290 min. Tom is happy that, though it is a small improvement, it is a step in right direction. He shares the good news with his manager Lisa. But Lisa in not convinced about the improvement. At 95% confidence, is the processes really improved?"
   ]
  },
  {
   "cell_type": "code",
   "execution_count": 5,
   "id": "5b0514b8",
   "metadata": {},
   "outputs": [],
   "source": [
    "# Though Sample size is less than 30 (Condition for T-Test), the question mentions it to be \n",
    "# \"Norammly Distributed\" and SD is given, so choosing Z-Test\n",
    "Mu = 300\n",
    "sd = 40\n",
    "n = 25\n",
    "xbar = 290 \n",
    "SE = sd/np.sqrt(n)  # Standard Error Formula"
   ]
  },
  {
   "cell_type": "code",
   "execution_count": null,
   "id": "30f478f7",
   "metadata": {},
   "outputs": [],
   "source": [
    "# Hypothesis Formulation\n",
    "# H0 = Mu>=300\n",
    "# Ha = Mu<300\n",
    "# One Tail Test - Left Tail Test"
   ]
  },
  {
   "cell_type": "code",
   "execution_count": 11,
   "id": "f2b7cd30-2c3f-4232-bac9-478995a2b079",
   "metadata": {},
   "outputs": [
    {
     "data": {
      "text/plain": [
       "286.8411709843882"
      ]
     },
     "execution_count": 11,
     "metadata": {},
     "output_type": "execute_result"
    }
   ],
   "source": [
    "# Approach 1: Finding X-critical\n",
    "\n",
    "x_critical = stats.norm.ppf(q=0.05,loc=Mu,scale=SE) # Alpha=0.05 i.e. 1-0.95 as Confidence Level is 95% (0.95)\n",
    "x_critical"
   ]
  },
  {
   "cell_type": "raw",
   "id": "12308798-0eba-4b56-a910-80fa5449fd51",
   "metadata": {},
   "source": [
    "Conclusion: 290 is outside the rejection region, means H0 is not rejected."
   ]
  },
  {
   "cell_type": "code",
   "execution_count": 13,
   "id": "1fc00189-23da-4b6a-94f7-c71dbce40a6b",
   "metadata": {},
   "outputs": [
    {
     "data": {
      "text/plain": [
       "-1.25"
      ]
     },
     "execution_count": 13,
     "metadata": {},
     "output_type": "execute_result"
    }
   ],
   "source": [
    "# Approach 2: Finding Zstat and Zcritical\n",
    "\n",
    "zstat = (xbar-Mu)/SE\n",
    "zstat"
   ]
  },
  {
   "cell_type": "code",
   "execution_count": 15,
   "id": "033bc3f6-ee48-42f5-9a94-4130a9a16655",
   "metadata": {},
   "outputs": [
    {
     "data": {
      "text/plain": [
       "-1.6448536269514729"
      ]
     },
     "execution_count": 15,
     "metadata": {},
     "output_type": "execute_result"
    }
   ],
   "source": [
    "zcritical = stats.norm.ppf(0.05,0,1)  # For Standard Normal Distribution, Mean=0 and SD=1\n",
    "zcritical"
   ]
  },
  {
   "cell_type": "raw",
   "id": "a543e324-1339-4484-8643-f10ff4c2fc67",
   "metadata": {},
   "source": [
    "Conclusion: zstat is outside the critical region, so H0 is not rejected."
   ]
  },
  {
   "cell_type": "code",
   "execution_count": 19,
   "id": "13c74c39-2894-4c65-b81f-a197c0376c26",
   "metadata": {},
   "outputs": [
    {
     "data": {
      "text/plain": [
       "0.10564977366685535"
      ]
     },
     "execution_count": 19,
     "metadata": {},
     "output_type": "execute_result"
    }
   ],
   "source": [
    "# Approach 3; p-value method\n",
    "p_value = stats.norm.cdf(xbar,Mu,SE)\n",
    "p_value"
   ]
  },
  {
   "cell_type": "raw",
   "id": "3a763313-4ee1-4eb1-968d-3d57fdd3d616",
   "metadata": {},
   "source": [
    "# Significance level = 5% (0.05)\n",
    "Conclusion: p_value is greater than 0.05, hence we fail to reject H0."
   ]
  },
  {
   "cell_type": "markdown",
   "id": "1309b23f",
   "metadata": {},
   "source": [
    "## E-commerce Delivery Time\n",
    "Q2. It is known from experience that for a certain E-commerce company the mean delivery time of the products is 5 days with a standard deviation of 1.3 days.\n",
    "\n",
    "The new customer service manager of the company is afraid that the company is slipping in the delivery time and collects a random sample of 45 orders. The mean delivery time of these samples comes out to be 5.25 days. \n",
    "\n",
    "Is there enough statistical evidence for the manager's apprehension that the mean delivery time of products is greater than 5 days.\n",
    "\n",
    "Use level of significance $\\alpha$ = 0.05"
   ]
  },
  {
   "cell_type": "code",
   "execution_count": 7,
   "id": "578219b6",
   "metadata": {},
   "outputs": [],
   "source": [
    "sd = 1.3\n",
    "n = 45\n",
    "Mu = 5\n",
    "xbar = 5.25\n",
    "SE = sd/np.sqrt(n)"
   ]
  },
  {
   "cell_type": "code",
   "execution_count": null,
   "id": "112561f5-9e3b-4fbc-9963-973808e6a4d5",
   "metadata": {},
   "outputs": [],
   "source": [
    "# Hypothesis Formulation:\n",
    "# H0: Mu<=5\n",
    "# Ha: Mu>5\n",
    "# One Tail Test - Right Tail Test"
   ]
  },
  {
   "cell_type": "code",
   "execution_count": 27,
   "id": "e5e44aef",
   "metadata": {},
   "outputs": [],
   "source": [
    "# x_critical = 1-stats.norm.ppf(q=0.95,loc=Mu,scale=SE)\n",
    "# x_critical"
   ]
  },
  {
   "cell_type": "code",
   "execution_count": 11,
   "id": "e7bbf7e2-e348-46c2-b67e-bc785459fd25",
   "metadata": {},
   "outputs": [
    {
     "data": {
      "text/plain": [
       "0.901481479074213"
      ]
     },
     "execution_count": 11,
     "metadata": {},
     "output_type": "execute_result"
    }
   ],
   "source": [
    "# P-Value method\n",
    "p_value = stats.norm.cdf(xbar,Mu,SE)\n",
    "p_value"
   ]
  },
  {
   "cell_type": "code",
   "execution_count": 17,
   "id": "4937e708-df68-4f71-aae0-d1d3813d7118",
   "metadata": {},
   "outputs": [
    {
     "data": {
      "text/plain": [
       "0.09851852092578695"
      ]
     },
     "execution_count": 17,
     "metadata": {},
     "output_type": "execute_result"
    }
   ],
   "source": [
    "1-p_value #As its a Right Tail Test"
   ]
  },
  {
   "cell_type": "raw",
   "id": "fc84346a-3695-4ce3-a0ba-bc36bff40a16",
   "metadata": {},
   "source": [
    "Fail to Reject the Null Hypothesis. (P is High, so Null will Fly)"
   ]
  },
  {
   "cell_type": "markdown",
   "id": "bcdc274c",
   "metadata": {},
   "source": [
    "## Performance assesment\n",
    "Q3. A football team has recently hired a new coach with the aim of improving the team's performance, particularly in scoring goals. The team wants to assess whether there is a statistically significant difference in the average number of goals scored per match after hiring the new coach.The team collects data on the number of goals scored per match for a random sample of 30.\n",
    "Before Hiring New Coach the average was at 1.8 goals with the standard deviation of 0.5. After hiring the new coach the average went up to 2.2 goals. The analytics team wants to assess the performance and provide recomendations for the future matches."
   ]
  },
  {
   "cell_type": "code",
   "execution_count": 29,
   "id": "e9a221ac",
   "metadata": {},
   "outputs": [],
   "source": [
    "Mu = 1.8\n",
    "sd = 0.5\n",
    "n = 30\n",
    "xbar = 2.2\n",
    "SE = sd/np.sqrt(n)"
   ]
  },
  {
   "cell_type": "code",
   "execution_count": null,
   "id": "40de9f62",
   "metadata": {},
   "outputs": [],
   "source": [
    "# Hypothesis Formulation:\n",
    "# H0: Mu<=1.8\n",
    "# Ha: Mu>1.8\n",
    "# One tail test - Right Tail Test"
   ]
  },
  {
   "cell_type": "code",
   "execution_count": 64,
   "id": "7debb0c0-8bf3-403c-9f88-9a83e944ea39",
   "metadata": {},
   "outputs": [
    {
     "data": {
      "text/plain": [
       "0.9999941143304512"
      ]
     },
     "execution_count": 64,
     "metadata": {},
     "output_type": "execute_result"
    }
   ],
   "source": [
    "p_value = stats.norm.cdf(xbar,Mu,SE)\n",
    "p_value"
   ]
  },
  {
   "cell_type": "code",
   "execution_count": 66,
   "id": "8bb8ac12-0a45-4f5a-93fd-d470f7623cee",
   "metadata": {},
   "outputs": [
    {
     "data": {
      "text/plain": [
       "5.8856695488440636e-06"
      ]
     },
     "execution_count": 66,
     "metadata": {},
     "output_type": "execute_result"
    }
   ],
   "source": [
    "1-p_value"
   ]
  },
  {
   "cell_type": "raw",
   "id": "a927fd2d-c5b5-46f5-80df-6b11f4a5ad3c",
   "metadata": {},
   "source": [
    "P is Low , so null will Go --- Reject H0"
   ]
  },
  {
   "cell_type": "code",
   "execution_count": 56,
   "id": "b7a7ff9b-16f3-4a9c-a9a9-bd4613bc8480",
   "metadata": {},
   "outputs": [
    {
     "data": {
      "text/plain": [
       "4.38178046004133"
      ]
     },
     "execution_count": 56,
     "metadata": {},
     "output_type": "execute_result"
    }
   ],
   "source": [
    "Zstat=(2.2-1.8)/SE\n",
    "Zstat"
   ]
  },
  {
   "cell_type": "code",
   "execution_count": 62,
   "id": "fb6c339c-8333-4519-9a88-e32b8d02d924",
   "metadata": {},
   "outputs": [
    {
     "data": {
      "text/plain": [
       "1.6448536269514722"
      ]
     },
     "execution_count": 62,
     "metadata": {},
     "output_type": "execute_result"
    }
   ],
   "source": [
    "Zcrit = stats.norm.ppf(1-0.05,0,1)\n",
    "Zcrit"
   ]
  },
  {
   "cell_type": "raw",
   "id": "caa57012-0fe6-4811-81ca-a3caf349eeb1",
   "metadata": {},
   "source": [
    "Zstat is greater than Zcrit (i.e It falls within the rejection region). Rejected H0."
   ]
  },
  {
   "cell_type": "markdown",
   "id": "bb29d1cb",
   "metadata": {},
   "source": [
    "Experian Marketing Services reported that the typical American spends a mean of 144 minutes (2.4 hours) per day accessing the Internet via a mobile device. In order to test the validity of this statement, you select a sample of 30 friends and family. The results for the time spent per day accessing the Internet via mobile device (in minutes) are stored in InternetMobileTime \n",
    "\n",
    "a. Is there evidence that the population mean time spent per day accessing the Internet via mobile device is different from 144 minutes? Use the p-value approach and a level of significance of 0.05. \n",
    "\n",
    "b. What assumption about the population distribution is needed in order to conduct the t test in (a)? \n",
    "\n",
    "** Use InternetMobileTime .csv **"
   ]
  },
  {
   "cell_type": "code",
   "execution_count": 68,
   "id": "58cc28af",
   "metadata": {},
   "outputs": [],
   "source": [
    "df = pd.read_csv('InternetMobileTime .csv')"
   ]
  },
  {
   "cell_type": "code",
   "execution_count": 72,
   "id": "c71c4f2c",
   "metadata": {},
   "outputs": [
    {
     "data": {
      "text/html": [
       "<div>\n",
       "<style scoped>\n",
       "    .dataframe tbody tr th:only-of-type {\n",
       "        vertical-align: middle;\n",
       "    }\n",
       "\n",
       "    .dataframe tbody tr th {\n",
       "        vertical-align: top;\n",
       "    }\n",
       "\n",
       "    .dataframe thead th {\n",
       "        text-align: right;\n",
       "    }\n",
       "</style>\n",
       "<table border=\"1\" class=\"dataframe\">\n",
       "  <thead>\n",
       "    <tr style=\"text-align: right;\">\n",
       "      <th></th>\n",
       "      <th>Minutes</th>\n",
       "    </tr>\n",
       "  </thead>\n",
       "  <tbody>\n",
       "    <tr>\n",
       "      <th>0</th>\n",
       "      <td>72</td>\n",
       "    </tr>\n",
       "    <tr>\n",
       "      <th>1</th>\n",
       "      <td>144</td>\n",
       "    </tr>\n",
       "    <tr>\n",
       "      <th>2</th>\n",
       "      <td>48</td>\n",
       "    </tr>\n",
       "    <tr>\n",
       "      <th>3</th>\n",
       "      <td>72</td>\n",
       "    </tr>\n",
       "    <tr>\n",
       "      <th>4</th>\n",
       "      <td>36</td>\n",
       "    </tr>\n",
       "  </tbody>\n",
       "</table>\n",
       "</div>"
      ],
      "text/plain": [
       "   Minutes\n",
       "0       72\n",
       "1      144\n",
       "2       48\n",
       "3       72\n",
       "4       36"
      ]
     },
     "execution_count": 72,
     "metadata": {},
     "output_type": "execute_result"
    }
   ],
   "source": [
    "df.head()"
   ]
  },
  {
   "cell_type": "code",
   "execution_count": 85,
   "id": "e7515d68-f61a-48e9-976a-3e4986ba923d",
   "metadata": {},
   "outputs": [
    {
     "data": {
      "text/plain": [
       "175.26666666666668"
      ]
     },
     "execution_count": 85,
     "metadata": {},
     "output_type": "execute_result"
    }
   ],
   "source": [
    "xbar = df['Minutes'].mean()\n",
    "xbar"
   ]
  },
  {
   "cell_type": "code",
   "execution_count": 87,
   "id": "25b294de-fba4-4776-a971-69c394ad6862",
   "metadata": {},
   "outputs": [
    {
     "data": {
      "text/html": [
       "<div>\n",
       "<style scoped>\n",
       "    .dataframe tbody tr th:only-of-type {\n",
       "        vertical-align: middle;\n",
       "    }\n",
       "\n",
       "    .dataframe tbody tr th {\n",
       "        vertical-align: top;\n",
       "    }\n",
       "\n",
       "    .dataframe thead th {\n",
       "        text-align: right;\n",
       "    }\n",
       "</style>\n",
       "<table border=\"1\" class=\"dataframe\">\n",
       "  <thead>\n",
       "    <tr style=\"text-align: right;\">\n",
       "      <th></th>\n",
       "      <th>Minutes</th>\n",
       "    </tr>\n",
       "  </thead>\n",
       "  <tbody>\n",
       "    <tr>\n",
       "      <th>count</th>\n",
       "      <td>30.000000</td>\n",
       "    </tr>\n",
       "    <tr>\n",
       "      <th>mean</th>\n",
       "      <td>175.266667</td>\n",
       "    </tr>\n",
       "    <tr>\n",
       "      <th>std</th>\n",
       "      <td>139.836834</td>\n",
       "    </tr>\n",
       "    <tr>\n",
       "      <th>min</th>\n",
       "      <td>24.000000</td>\n",
       "    </tr>\n",
       "    <tr>\n",
       "      <th>25%</th>\n",
       "      <td>72.000000</td>\n",
       "    </tr>\n",
       "    <tr>\n",
       "      <th>50%</th>\n",
       "      <td>144.000000</td>\n",
       "    </tr>\n",
       "    <tr>\n",
       "      <th>75%</th>\n",
       "      <td>276.000000</td>\n",
       "    </tr>\n",
       "    <tr>\n",
       "      <th>max</th>\n",
       "      <td>576.000000</td>\n",
       "    </tr>\n",
       "  </tbody>\n",
       "</table>\n",
       "</div>"
      ],
      "text/plain": [
       "          Minutes\n",
       "count   30.000000\n",
       "mean   175.266667\n",
       "std    139.836834\n",
       "min     24.000000\n",
       "25%     72.000000\n",
       "50%    144.000000\n",
       "75%    276.000000\n",
       "max    576.000000"
      ]
     },
     "execution_count": 87,
     "metadata": {},
     "output_type": "execute_result"
    }
   ],
   "source": [
    "df.describe()"
   ]
  },
  {
   "cell_type": "code",
   "execution_count": null,
   "id": "ba0741e6-cd04-4213-88d8-9f1fd79a868d",
   "metadata": {},
   "outputs": [],
   "source": [
    "# Hypothesis Formulation\n",
    "# H0: Mu<=144\n",
    "# Ha: Mu>144  --- From Sample\n",
    "# One Tail Test -- Right Tail Test"
   ]
  },
  {
   "cell_type": "code",
   "execution_count": 101,
   "id": "e9f927ad-e00b-4143-8dcb-76bcabad110b",
   "metadata": {},
   "outputs": [],
   "source": [
    "Mu = 144\n",
    "n = 30\n",
    "xbar = 175\n",
    "SD = 139.84 # Here, SD of population is not given, it is that of Sample.\n",
    "# Hence, One Sample T-Test"
   ]
  },
  {
   "cell_type": "code",
   "execution_count": 103,
   "id": "4a4d58c1-33f6-4e28-9c27-15009e5da4d1",
   "metadata": {},
   "outputs": [],
   "source": [
    "SE = SD/np.sqrt(n)"
   ]
  },
  {
   "cell_type": "code",
   "execution_count": 109,
   "id": "60a60275-1b0a-40db-beb1-222718e39bb5",
   "metadata": {},
   "outputs": [
    {
     "data": {
      "text/plain": [
       "1.2142018937829053"
      ]
     },
     "execution_count": 109,
     "metadata": {},
     "output_type": "execute_result"
    }
   ],
   "source": [
    "tstat = (xbar-Mu)/SE\n",
    "tstat"
   ]
  },
  {
   "cell_type": "code",
   "execution_count": 113,
   "id": "4ce19eea-e787-499e-8f45-ff0be4375e94",
   "metadata": {},
   "outputs": [
    {
     "data": {
      "text/plain": [
       "1.6991270265334972"
      ]
     },
     "execution_count": 113,
     "metadata": {},
     "output_type": "execute_result"
    }
   ],
   "source": [
    "tcrit = stats.t.ppf(1-0.05,29)  # For T-test, We need degree of freedom which is n-1\n",
    "tcrit"
   ]
  },
  {
   "cell_type": "raw",
   "id": "99ff8db4-e2bd-4338-92a1-0704590150ad",
   "metadata": {},
   "source": [
    "tsat is less than tcrit (Outside the Rejection region), Failed to reject H0"
   ]
  },
  {
   "cell_type": "code",
   "execution_count": 115,
   "id": "4dde7857-f445-4a51-b841-c4ab62bd64a3",
   "metadata": {},
   "outputs": [],
   "source": [
    "from scipy.stats import ttest_1samp,ttest_ind,ttest_rel"
   ]
  },
  {
   "cell_type": "code",
   "execution_count": 120,
   "id": "4114aaa2-885f-4e2f-8d65-bf0245677944",
   "metadata": {},
   "outputs": [],
   "source": [
    "tstats,P_value = ttest_1samp(df,Mu,alternative='greater') # Greater as its a Right Tail, its Default is Two sided Test"
   ]
  },
  {
   "cell_type": "code",
   "execution_count": 124,
   "id": "a0cb1a3c-2586-451c-bc48-36f2e332806a",
   "metadata": {},
   "outputs": [
    {
     "data": {
      "text/plain": [
       "array([1.22467437])"
      ]
     },
     "execution_count": 124,
     "metadata": {},
     "output_type": "execute_result"
    }
   ],
   "source": [
    "tstats  # Same as calculated before"
   ]
  },
  {
   "cell_type": "code",
   "execution_count": 122,
   "id": "4c6b1f7a-fbf2-4050-89b9-6fc1d66dad91",
   "metadata": {},
   "outputs": [
    {
     "data": {
      "text/plain": [
       "array([0.11527663])"
      ]
     },
     "execution_count": 122,
     "metadata": {},
     "output_type": "execute_result"
    }
   ],
   "source": [
    "P_value"
   ]
  },
  {
   "cell_type": "raw",
   "id": "fe13a7c1-514a-45b6-ac78-73de33c9c652",
   "metadata": {},
   "source": [
    "P is High, so Null will Fly -- Failed to Reject H0"
   ]
  },
  {
   "cell_type": "markdown",
   "id": "a477c5b0",
   "metadata": {},
   "source": [
    "A hotel manager looks to enhance the initial impressions that hotel guests have when they check in. Contributing to initial impressions is the time it takes to deliver a guest’s luggage to the room after check-in. A random sample of 20 deliveries on a particular day were selected in Wing A of the hotel, and a random sample of 20 deliveries were selected in Wing B. The results are stored in Luggage . Analyze the data and determine whether there is a difference between the mean delivery times in the two wings of the hotel. (Use $\\alpha$ = 0.05) <br>"
   ]
  },
  {
   "cell_type": "code",
   "execution_count": 126,
   "id": "2020a31f",
   "metadata": {},
   "outputs": [],
   "source": [
    "df = pd.read_csv('Luggage (1).csv')"
   ]
  },
  {
   "cell_type": "raw",
   "id": "bf0b2fb2-3854-4642-a56a-b0953f12e921",
   "metadata": {},
   "source": [
    "df.describe()"
   ]
  },
  {
   "cell_type": "code",
   "execution_count": null,
   "id": "bbaae7a0-0fee-4bde-8446-4ec8e0a9d640",
   "metadata": {},
   "outputs": [],
   "source": [
    "# Hypothesis Formulation:\n",
    "# H0: MuA = MuB   ----- MuA-MuB = 0 ----- Md=0\n",
    "# Ha: MuA - MuB > 0 ---- Md!=0\n",
    "# Two Tailed Test\n",
    "# Two sample T-Test (Independent)"
   ]
  },
  {
   "cell_type": "code",
   "execution_count": 130,
   "id": "d7d9749b-ec4e-4e77-8c7b-670c953b1229",
   "metadata": {},
   "outputs": [],
   "source": [
    "tstat,P_value = ttest_ind(df['WingA'],df['WingB'])"
   ]
  },
  {
   "cell_type": "code",
   "execution_count": 132,
   "id": "e65c4b20-4fc1-4c68-b61e-8a675de85d37",
   "metadata": {},
   "outputs": [
    {
     "data": {
      "text/plain": [
       "5.16151166403543"
      ]
     },
     "execution_count": 132,
     "metadata": {},
     "output_type": "execute_result"
    }
   ],
   "source": [
    "tstat"
   ]
  },
  {
   "cell_type": "code",
   "execution_count": 134,
   "id": "e0a13b06-904f-45c2-8e1f-f6076f1475bd",
   "metadata": {},
   "outputs": [
    {
     "data": {
      "text/plain": [
       "8.007988032535588e-06"
      ]
     },
     "execution_count": 134,
     "metadata": {},
     "output_type": "execute_result"
    }
   ],
   "source": [
    "P_value"
   ]
  },
  {
   "cell_type": "raw",
   "id": "3b9faaca-4b71-49a4-b5cf-3282d46d87ec",
   "metadata": {},
   "source": [
    "P_value is less than 0.05, Null will Go --- Reject the H0"
   ]
  },
  {
   "cell_type": "markdown",
   "id": "e06befeb",
   "metadata": {},
   "source": [
    "The dataset \"Concrete\" contains the compressive strength (measured in thousands of pounds per square inch, psi) of 40 concrete samples taken two days and seven days after pouring. At the 0.01 level of significance, can we conclude that the mean compressive strength of concrete is lower at two days than at seven days?\n",
    "\n",
    "** Load the concrete.csv"
   ]
  },
  {
   "cell_type": "code",
   "execution_count": 139,
   "id": "a46e2b94",
   "metadata": {},
   "outputs": [],
   "source": [
    "df = pd.read_csv('Concrete.csv')"
   ]
  },
  {
   "cell_type": "code",
   "execution_count": 141,
   "id": "4e897812",
   "metadata": {},
   "outputs": [
    {
     "data": {
      "text/html": [
       "<div>\n",
       "<style scoped>\n",
       "    .dataframe tbody tr th:only-of-type {\n",
       "        vertical-align: middle;\n",
       "    }\n",
       "\n",
       "    .dataframe tbody tr th {\n",
       "        vertical-align: top;\n",
       "    }\n",
       "\n",
       "    .dataframe thead th {\n",
       "        text-align: right;\n",
       "    }\n",
       "</style>\n",
       "<table border=\"1\" class=\"dataframe\">\n",
       "  <thead>\n",
       "    <tr style=\"text-align: right;\">\n",
       "      <th></th>\n",
       "      <th>Sample</th>\n",
       "      <th>Two Days</th>\n",
       "      <th>Seven Days</th>\n",
       "    </tr>\n",
       "  </thead>\n",
       "  <tbody>\n",
       "    <tr>\n",
       "      <th>count</th>\n",
       "      <td>40.000000</td>\n",
       "      <td>40.000000</td>\n",
       "      <td>40.000000</td>\n",
       "    </tr>\n",
       "    <tr>\n",
       "      <th>mean</th>\n",
       "      <td>20.500000</td>\n",
       "      <td>2.991000</td>\n",
       "      <td>3.544125</td>\n",
       "    </tr>\n",
       "    <tr>\n",
       "      <th>std</th>\n",
       "      <td>11.690452</td>\n",
       "      <td>0.496086</td>\n",
       "      <td>0.503577</td>\n",
       "    </tr>\n",
       "    <tr>\n",
       "      <th>min</th>\n",
       "      <td>1.000000</td>\n",
       "      <td>1.635000</td>\n",
       "      <td>2.275000</td>\n",
       "    </tr>\n",
       "    <tr>\n",
       "      <th>25%</th>\n",
       "      <td>10.750000</td>\n",
       "      <td>2.810000</td>\n",
       "      <td>3.317500</td>\n",
       "    </tr>\n",
       "    <tr>\n",
       "      <th>50%</th>\n",
       "      <td>20.500000</td>\n",
       "      <td>3.017500</td>\n",
       "      <td>3.600000</td>\n",
       "    </tr>\n",
       "    <tr>\n",
       "      <th>75%</th>\n",
       "      <td>30.250000</td>\n",
       "      <td>3.272500</td>\n",
       "      <td>3.831250</td>\n",
       "    </tr>\n",
       "    <tr>\n",
       "      <th>max</th>\n",
       "      <td>40.000000</td>\n",
       "      <td>3.825000</td>\n",
       "      <td>4.570000</td>\n",
       "    </tr>\n",
       "  </tbody>\n",
       "</table>\n",
       "</div>"
      ],
      "text/plain": [
       "          Sample   Two Days  Seven Days\n",
       "count  40.000000  40.000000   40.000000\n",
       "mean   20.500000   2.991000    3.544125\n",
       "std    11.690452   0.496086    0.503577\n",
       "min     1.000000   1.635000    2.275000\n",
       "25%    10.750000   2.810000    3.317500\n",
       "50%    20.500000   3.017500    3.600000\n",
       "75%    30.250000   3.272500    3.831250\n",
       "max    40.000000   3.825000    4.570000"
      ]
     },
     "execution_count": 141,
     "metadata": {},
     "output_type": "execute_result"
    }
   ],
   "source": [
    "df.describe()"
   ]
  },
  {
   "cell_type": "code",
   "execution_count": null,
   "id": "452d6ea6-b8c4-470f-a83e-872dd6903b4b",
   "metadata": {},
   "outputs": [],
   "source": [
    "# Hypothesis Formulation:\n",
    "# H0: Mu2 = Mu7 ---- Mu2-Mu7=0 --- Md=0\n",
    "# Ha: Mu7 - Mu2 >0 ---- Md!=0\n",
    "# Two Tailed Test\n",
    "# T-Test -- Two Sample Test (Dependent/Related/Paired)"
   ]
  },
  {
   "cell_type": "code",
   "execution_count": 143,
   "id": "2a67df37-60e5-4d32-8064-b2b3dd70b0df",
   "metadata": {},
   "outputs": [],
   "source": [
    "tstat,p_value = ttest_rel(df['Two Days'],df['Seven Days'])  # Two Tail Test"
   ]
  },
  {
   "cell_type": "code",
   "execution_count": 145,
   "id": "63fac2da-36b6-4a98-a773-c2ede0b65655",
   "metadata": {},
   "outputs": [
    {
     "data": {
      "text/plain": [
       "1.5536317048737742e-11"
      ]
     },
     "execution_count": 145,
     "metadata": {},
     "output_type": "execute_result"
    }
   ],
   "source": [
    "p_value"
   ]
  },
  {
   "cell_type": "raw",
   "id": "8d56e27c-9d6c-4459-9d98-3d475f0f689c",
   "metadata": {},
   "source": [
    "p_value is less than 0.01, hence null will Go --- H0 is Rejected "
   ]
  },
  {
   "cell_type": "code",
   "execution_count": null,
   "id": "964e393f-11d7-45f0-8249-036cb4d56c3a",
   "metadata": {},
   "outputs": [],
   "source": [
    "# Method 2: Right Tail Test\n",
    "# H0: Mu2 = Mu7 ---- Mu2-Mu7=0 --- Md<=0\n",
    "# Ha: Mu7 - Mu2 >0 ---- Md>0"
   ]
  },
  {
   "cell_type": "code",
   "execution_count": 147,
   "id": "fd0dca7d-5cb6-4b02-b473-54779192f87e",
   "metadata": {},
   "outputs": [],
   "source": [
    "tstat1,p_value1 = ttest_rel(df['Seven Days'],df['Two Days'],alternative='greater') # Right Tail Test"
   ]
  },
  {
   "cell_type": "code",
   "execution_count": 149,
   "id": "838c086e-4c2c-43d3-8169-8348c2904fe3",
   "metadata": {},
   "outputs": [
    {
     "data": {
      "text/plain": [
       "7.768158524368871e-12"
      ]
     },
     "execution_count": 149,
     "metadata": {},
     "output_type": "execute_result"
    }
   ],
   "source": [
    "p_value1"
   ]
  },
  {
   "cell_type": "raw",
   "id": "84396171-8d95-42dc-806d-6fbd6df60bda",
   "metadata": {},
   "source": [
    "p_value is less than 0.01, hence null will Go --- H0 is Rejected "
   ]
  }
 ],
 "metadata": {
  "kernelspec": {
   "display_name": "Python [conda env:base] *",
   "language": "python",
   "name": "conda-base-py"
  },
  "language_info": {
   "codemirror_mode": {
    "name": "ipython",
    "version": 3
   },
   "file_extension": ".py",
   "mimetype": "text/x-python",
   "name": "python",
   "nbconvert_exporter": "python",
   "pygments_lexer": "ipython3",
   "version": "3.12.7"
  }
 },
 "nbformat": 4,
 "nbformat_minor": 5
}
