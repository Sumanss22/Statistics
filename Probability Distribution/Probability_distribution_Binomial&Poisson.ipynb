{
 "cells": [
  {
   "cell_type": "markdown",
   "id": "7fd802c3",
   "metadata": {},
   "source": [
    "# Problems on Binomial Distributions"
   ]
  },
  {
   "cell_type": "markdown",
   "id": "a53cb1c7",
   "metadata": {},
   "source": [
    "1)\tIn an inspection of automobiles 60% of all automobiles had emissions that do not meet the pollution requirement. For a random sample of 15 automobiles, compute the following\n",
    "\n",
    "-\tProbability that all 15 fails the inspection\n",
    "-\tExactly 8 fails the inspection\n",
    "-\tSeven or less passes the inspection\n",
    "-\tExpected number of automobiles to pass the inspection and its variance."
   ]
  },
  {
   "cell_type": "code",
   "execution_count": 8,
   "id": "8e8edd0c-4294-46a6-8371-f4bf99ff42a6",
   "metadata": {},
   "outputs": [],
   "source": [
    "import numpy as np\n",
    "import pandas as pd\n",
    "import scipy.stats as stats # Scientific Python library"
   ]
  },
  {
   "cell_type": "code",
   "execution_count": 8,
   "id": "85532e8e",
   "metadata": {},
   "outputs": [],
   "source": [
    "p = 0.6  # Prob of Failing the inspection\n",
    "n = 15 # Number of Trials"
   ]
  },
  {
   "cell_type": "code",
   "execution_count": 10,
   "id": "1a892aa6",
   "metadata": {},
   "outputs": [
    {
     "data": {
      "text/plain": [
       "0.00047018498457599973"
      ]
     },
     "execution_count": 10,
     "metadata": {},
     "output_type": "execute_result"
    }
   ],
   "source": [
    "#\tProbability that all 15 fails the inspection\n",
    "k = 15\n",
    "\n",
    "prob_15_fails = stats.binom.pmf(k,n,p)\n",
    "prob_15_fails"
   ]
  },
  {
   "cell_type": "code",
   "execution_count": 12,
   "id": "8f09215c-0ef5-46c7-96f7-b85ae3493384",
   "metadata": {},
   "outputs": [
    {
     "data": {
      "text/plain": [
       "0.17708366168064013"
      ]
     },
     "execution_count": 12,
     "metadata": {},
     "output_type": "execute_result"
    }
   ],
   "source": [
    "# Exactly 8 fails the inspection\n",
    "k1 = 8\n",
    "prob_8_fails = stats.binom.pmf(k1,n,p)\n",
    "prob_8_fails"
   ]
  },
  {
   "cell_type": "code",
   "execution_count": 14,
   "id": "9b89be3f-bae7-48b9-bc00-3b53de9e3a49",
   "metadata": {},
   "outputs": [
    {
     "data": {
      "text/plain": [
       "0.786896817389568"
      ]
     },
     "execution_count": 14,
     "metadata": {},
     "output_type": "execute_result"
    }
   ],
   "source": [
    "# Seven or less passes the inspection\n",
    "P_pass = 1-0.6\n",
    "k2 = 7\n",
    "Prob_pass = stats.binom.cdf(k2,n,P_pass)  # CDF takes Cumulative till 7 i.e. (0,1,2,3,4,5,6,7)\n",
    "Prob_pass"
   ]
  },
  {
   "cell_type": "code",
   "execution_count": 16,
   "id": "f0f5136e-4546-47e2-b176-55b7f5be9e05",
   "metadata": {},
   "outputs": [
    {
     "data": {
      "text/plain": [
       "0.21310318261043204"
      ]
     },
     "execution_count": 16,
     "metadata": {},
     "output_type": "execute_result"
    }
   ],
   "source": [
    "# Eight or above pass the inspection\n",
    "1 - stats.binom.cdf(k2,n,P_pass)"
   ]
  },
  {
   "cell_type": "code",
   "execution_count": 32,
   "id": "b3f5ef12-0743-4845-9bd6-197774b9adb0",
   "metadata": {},
   "outputs": [],
   "source": [
    "# Expected number of automobiles to pass the inspection and its variance\n",
    "\n",
    "avg_pass = n*P_pass\n",
    "variance = n*P_pass*(1-P_pass)"
   ]
  },
  {
   "cell_type": "code",
   "execution_count": 34,
   "id": "f0be2fd6-c6bd-4607-a53a-69b0b4421b22",
   "metadata": {},
   "outputs": [
    {
     "data": {
      "text/plain": [
       "6.0"
      ]
     },
     "execution_count": 34,
     "metadata": {},
     "output_type": "execute_result"
    }
   ],
   "source": [
    "avg_pass"
   ]
  },
  {
   "cell_type": "code",
   "execution_count": 36,
   "id": "5df9f4b8-ee1d-4301-8629-b410692b1e70",
   "metadata": {},
   "outputs": [
    {
     "data": {
      "text/plain": [
       "3.5999999999999996"
      ]
     },
     "execution_count": 36,
     "metadata": {},
     "output_type": "execute_result"
    }
   ],
   "source": [
    "variance"
   ]
  },
  {
   "cell_type": "code",
   "execution_count": 40,
   "id": "67336101-d11e-40d4-b966-dfa6c7e808d6",
   "metadata": {},
   "outputs": [
    {
     "data": {
      "text/plain": [
       "1.8973665961010275"
      ]
     },
     "execution_count": 40,
     "metadata": {},
     "output_type": "execute_result"
    }
   ],
   "source": [
    "std_deviation = np.sqrt(variance)\n",
    "std_deviation"
   ]
  },
  {
   "cell_type": "markdown",
   "id": "6830586c",
   "metadata": {},
   "source": [
    "2)\tOver a long period of time in a large multinational corporation, 10% of all sales trainees are rated as outstanding, 75% are rated as excellent, 10% are rated as satisfactory and 5% are considered unsatisfactory. Find the following probabilities for a sample of 10 trainees selected at random\n",
    "\n",
    "-\tTwo are rated as outstanding\n",
    "-\tTwo or more are rated as outstanding\n",
    "-\tEight of the ten are rated either outstanding or excellent\n",
    "-\tNone of the trainees are rated as unsatisfactory"
   ]
  },
  {
   "cell_type": "code",
   "execution_count": 44,
   "id": "8e3d1648",
   "metadata": {},
   "outputs": [],
   "source": [
    "P_Outstanding = 0.1\n",
    "P_Excellent = 0.75\n",
    "P_Satisfactory = 0.1\n",
    "P_Unsatisfactory = 0.05\n",
    "\n",
    "n2 = 10"
   ]
  },
  {
   "cell_type": "code",
   "execution_count": 48,
   "id": "4c73408e",
   "metadata": {},
   "outputs": [
    {
     "data": {
      "text/plain": [
       "0.19371024450000007"
      ]
     },
     "execution_count": 48,
     "metadata": {},
     "output_type": "execute_result"
    }
   ],
   "source": [
    "# Two are rated as outstanding\n",
    "k3 = 2\n",
    "Prob_2_Out = stats.binom.pmf(k3,n2,P_Outstanding)\n",
    "Prob_2_Out"
   ]
  },
  {
   "cell_type": "code",
   "execution_count": 54,
   "id": "6e84227c-cd4e-4f25-80f3-7d7a290684f8",
   "metadata": {},
   "outputs": [
    {
     "data": {
      "text/plain": [
       "0.26390107090000003"
      ]
     },
     "execution_count": 54,
     "metadata": {},
     "output_type": "execute_result"
    }
   ],
   "source": [
    "# Two or more are rated as outstanding\n",
    "k4 = 1\n",
    "Prob_2_and_more = 1-stats.binom.cdf(k4,n2,P_Outstanding)\n",
    "Prob_2_and_more"
   ]
  },
  {
   "cell_type": "code",
   "execution_count": 56,
   "id": "d10c1418-06e7-404a-afd1-9aa65d70fddc",
   "metadata": {},
   "outputs": [
    {
     "data": {
      "text/plain": [
       "0.27589665660205076"
      ]
     },
     "execution_count": 56,
     "metadata": {},
     "output_type": "execute_result"
    }
   ],
   "source": [
    "# Eight of the ten are rated either outstanding or excellent\n",
    "k5 = 8\n",
    "stats.binom.pmf(k5,n2,(P_Outstanding+P_Excellent))"
   ]
  },
  {
   "cell_type": "code",
   "execution_count": 58,
   "id": "b3e03382-2b63-4c52-b30c-233dd6d8af48",
   "metadata": {},
   "outputs": [
    {
     "data": {
      "text/plain": [
       "0.5987369392383789"
      ]
     },
     "execution_count": 58,
     "metadata": {},
     "output_type": "execute_result"
    }
   ],
   "source": [
    "# None of the trainees are rated as unsatisfactory\n",
    "k6 = 0\n",
    "stats.binom.pmf(k6,n2,P_Unsatisfactory)"
   ]
  },
  {
   "cell_type": "markdown",
   "id": "33eb57e8",
   "metadata": {},
   "source": [
    "3)  A football player has a penalty kick success rate of 70%. If the player takes 12 penalty kicks\n",
    "\n",
    "\n",
    "-   what is the probability of scoring exactly 9 of them?\n",
    "-   What is the probability of the player scoring at least 10?\n",
    "-   What is the expected number of successful penalty kicks?\n",
    "-   If the player takes 12 penalty kicks, what is the probability of scoring more than half of them?"
   ]
  },
  {
   "cell_type": "code",
   "execution_count": 30,
   "id": "58504708-ff14-486d-811f-b02d5b4d5387",
   "metadata": {},
   "outputs": [],
   "source": [
    "P_Pen_Success = 0.7\n",
    "n3 = 12"
   ]
  },
  {
   "cell_type": "code",
   "execution_count": 70,
   "id": "9e83170a",
   "metadata": {},
   "outputs": [
    {
     "data": {
      "text/plain": [
       "0.23970042558000004"
      ]
     },
     "execution_count": 70,
     "metadata": {},
     "output_type": "execute_result"
    }
   ],
   "source": [
    "# Probability of scoring exactly 9 of them\n",
    "k10 = 9\n",
    "stats.binom.pmf(k10,n3,P_Pen_Success)"
   ]
  },
  {
   "cell_type": "code",
   "execution_count": 32,
   "id": "6d88c927",
   "metadata": {},
   "outputs": [
    {
     "data": {
      "text/plain": [
       "0.914974950051"
      ]
     },
     "execution_count": 32,
     "metadata": {},
     "output_type": "execute_result"
    }
   ],
   "source": [
    "# Probability of the player scoring at least 10\n",
    "k11 = 10\n",
    "stats.binom.cdf(k11,n3,P_Pen_Success)"
   ]
  },
  {
   "cell_type": "code",
   "execution_count": 34,
   "id": "a2ce7380-24ab-49d4-abc7-cf7e5f36a058",
   "metadata": {},
   "outputs": [
    {
     "data": {
      "text/plain": [
       "2.52"
      ]
     },
     "execution_count": 34,
     "metadata": {},
     "output_type": "execute_result"
    }
   ],
   "source": [
    "# Expected number of successful penalty kicks\n",
    "n3*P_Pen_Success*(1-P_Pen_Success)"
   ]
  },
  {
   "cell_type": "code",
   "execution_count": 36,
   "id": "55ac6bcd-2cc7-4ee4-838f-62d538ac6ee5",
   "metadata": {},
   "outputs": [
    {
     "data": {
      "text/plain": [
       "0.8821512611379999"
      ]
     },
     "execution_count": 36,
     "metadata": {},
     "output_type": "execute_result"
    }
   ],
   "source": [
    "# If the player takes 12 penalty kicks, what is the probability of scoring more than half of them\n",
    "k13 = 6\n",
    "1-stats.binom.cdf(k13,n3,P_Pen_Success)"
   ]
  },
  {
   "cell_type": "markdown",
   "id": "989b889d",
   "metadata": {},
   "source": [
    "4) A bowler has a 20% chance of taking a wicket with each delivery. If the bowler bowls 6 deliveries in an over, what is the probability that he takes at least one wicket in the over?"
   ]
  },
  {
   "cell_type": "code",
   "execution_count": 70,
   "id": "7350e139",
   "metadata": {},
   "outputs": [
    {
     "data": {
      "text/plain": [
       "0.7378560000000001"
      ]
     },
     "execution_count": 70,
     "metadata": {},
     "output_type": "execute_result"
    }
   ],
   "source": [
    "p_wicket = 0.2\n",
    "n4 = 6\n",
    "k14 = 0\n",
    "1 - stats.binom.cdf(k14,n4,p_wicket)"
   ]
  },
  {
   "cell_type": "markdown",
   "id": "b5a23d93",
   "metadata": {},
   "source": [
    "5) A batsman has a 15% chance of hitting a boundary (4 or 6) on each ball faced. If the batsman faces 50 balls, what is the probability that he hits at least 5 boundaries?"
   ]
  },
  {
   "cell_type": "code",
   "execution_count": 72,
   "id": "e7c46b93",
   "metadata": {},
   "outputs": [
    {
     "data": {
      "text/plain": [
       "0.887894791945023"
      ]
     },
     "execution_count": 72,
     "metadata": {},
     "output_type": "execute_result"
    }
   ],
   "source": [
    "P_Boundary = 0.15\n",
    "n5 = 50\n",
    "k15 = 4\n",
    "1-stats.binom.cdf(k15,n5,P_Boundary)"
   ]
  },
  {
   "cell_type": "markdown",
   "id": "d6bdb6f7",
   "metadata": {},
   "source": [
    "# Problems on Poisson Distribution\n",
    "\n",
    "- A bank is interested in studying the number of people who use the ATM located outside during night hours.\n",
    "- On an average, 1.6 customers walk up to the ATM during a 10-minute interval, b/w 9pm and midnight.\n",
    "- Find the probability of exactly 3 customers using the ATM in a 10-minute interval. \n",
    "- What is the probability of 3 or fewer people?"
   ]
  },
  {
   "cell_type": "code",
   "execution_count": 60,
   "id": "6a9bc5b9",
   "metadata": {},
   "outputs": [
    {
     "data": {
      "text/plain": [
       "0.13782802295101812"
      ]
     },
     "execution_count": 60,
     "metadata": {},
     "output_type": "execute_result"
    }
   ],
   "source": [
    "# probability of exactly 3 customers using the ATM in a 10-minute interval\n",
    "rate = 1.6\n",
    "k7 = 3\n",
    "stats.poisson.pmf(k7,rate)"
   ]
  },
  {
   "cell_type": "code",
   "execution_count": 62,
   "id": "0fcc83a1",
   "metadata": {},
   "outputs": [
    {
     "data": {
      "text/plain": [
       "0.9211865127702811"
      ]
     },
     "execution_count": 62,
     "metadata": {},
     "output_type": "execute_result"
    }
   ],
   "source": [
    "# probability of 3 or fewer people\n",
    "k8 = 3\n",
    "stats.poisson.cdf(k8,rate)"
   ]
  },
  {
   "cell_type": "code",
   "execution_count": 64,
   "id": "86161489-7d49-4b9b-8fca-d17b80948eb4",
   "metadata": {},
   "outputs": [
    {
     "data": {
      "text/plain": [
       "0.22261598332718394"
      ]
     },
     "execution_count": 64,
     "metadata": {},
     "output_type": "execute_result"
    }
   ],
   "source": [
    "# probability of exactly 3 customers using the ATM in a 20-minute interval\n",
    "rate1 = 1.6*2\n",
    "k9 = 3\n",
    "stats.poisson.pmf(k9,rate1)"
   ]
  },
  {
   "cell_type": "markdown",
   "id": "d35be5ab",
   "metadata": {},
   "source": [
    "## A call center receives an average of 30 calls per hour. \n",
    "-  What is the probability of receiving more than 40 calls in the next hour?\n",
    "-  What is the probability of receiving less than 20 calls in the next hour?"
   ]
  },
  {
   "cell_type": "code",
   "execution_count": 76,
   "id": "8ac84503",
   "metadata": {},
   "outputs": [
    {
     "data": {
      "text/plain": [
       "0.03230957416587421"
      ]
     },
     "execution_count": 76,
     "metadata": {},
     "output_type": "execute_result"
    }
   ],
   "source": [
    "# Probability of receiving more than 40 calls in the next hour\n",
    "rate_calls = 30\n",
    "k16 = 40\n",
    "1-stats.poisson.cdf(k16,rate_calls)"
   ]
  },
  {
   "cell_type": "code",
   "execution_count": 78,
   "id": "aa75f409-d0e8-4495-b063-82fc3fcad454",
   "metadata": {},
   "outputs": [
    {
     "data": {
      "text/plain": [
       "0.035284618454228846"
      ]
     },
     "execution_count": 78,
     "metadata": {},
     "output_type": "execute_result"
    }
   ],
   "source": [
    "# Probability of receiving less than 20 calls in the next hour?\n",
    "k21 = 20\n",
    "stats.poisson.cdf(k21,rate_calls)"
   ]
  },
  {
   "cell_type": "markdown",
   "id": "3b8b491b",
   "metadata": {},
   "source": [
    "## Additional Case\n",
    "###  A LED bulb manufacturing company regularly conducts quality checks at specified periods on the products it manufactures.  Historically, the failure rate for LED light bulbs that the company manufactures is 5%. Suppose a random sample of 10 LED light bulbs is selected. Find the probability distribution for the defective bulbs and answer the following questions.\n",
    "\n",
    "**a) What is the probability that none of the LED bulbs are defective?**\n",
    "\n",
    "**b) What is the probability that exactly one of the LED bulbs is defective?**\n",
    "\n",
    "**c) What is the probability that two or fewer of the LED bulbs are defective?**\n",
    "\n",
    "**d) What is the probability that three or more of the LED bulbs are defective?**"
   ]
  },
  {
   "cell_type": "code",
   "execution_count": 10,
   "id": "a80c603c",
   "metadata": {},
   "outputs": [],
   "source": [
    "rate_fail = 0.05\n",
    "n7 = 10"
   ]
  },
  {
   "cell_type": "code",
   "execution_count": 14,
   "id": "a3525430-9773-4890-8e88-91c392986ec3",
   "metadata": {},
   "outputs": [
    {
     "data": {
      "text/plain": [
       "0.5987369392383789"
      ]
     },
     "execution_count": 14,
     "metadata": {},
     "output_type": "execute_result"
    }
   ],
   "source": [
    "# Probability that none of the LED bulbs are defective\n",
    "k17 = 0\n",
    "stats.binom.pmf(k17,n7,rate_fail)"
   ]
  },
  {
   "cell_type": "code",
   "execution_count": 18,
   "id": "bac3c063-e649-42c2-aa82-6f00c386bf0b",
   "metadata": {},
   "outputs": [
    {
     "data": {
      "text/plain": [
       "0.3151247048623047"
      ]
     },
     "execution_count": 18,
     "metadata": {},
     "output_type": "execute_result"
    }
   ],
   "source": [
    "# Probability that exactly one of the LED bulbs is defective\n",
    "k18 = 1\n",
    "stats.binom.pmf(k18,n7,rate_fail)"
   ]
  },
  {
   "cell_type": "code",
   "execution_count": 20,
   "id": "625d8f32-6f2f-4a01-a44f-9481cba3cf89",
   "metadata": {},
   "outputs": [
    {
     "data": {
      "text/plain": [
       "0.9884964426207031"
      ]
     },
     "execution_count": 20,
     "metadata": {},
     "output_type": "execute_result"
    }
   ],
   "source": [
    "# Probability that two or fewer of the LED bulbs are defective\n",
    "k19 = 2\n",
    "stats.binom.cdf(k19,n7,rate_fail)"
   ]
  },
  {
   "cell_type": "code",
   "execution_count": 26,
   "id": "d7906cb8-fedd-494b-a472-ff1c47daf388",
   "metadata": {},
   "outputs": [
    {
     "data": {
      "text/plain": [
       "0.01150355737929687"
      ]
     },
     "execution_count": 26,
     "metadata": {},
     "output_type": "execute_result"
    }
   ],
   "source": [
    "# Probability that three or more of the LED bulbs are defective\n",
    "k20 = 2\n",
    "1-stats.binom.cdf(k20,n7,rate_fail)"
   ]
  }
 ],
 "metadata": {
  "kernelspec": {
   "display_name": "Python [conda env:base] *",
   "language": "python",
   "name": "conda-base-py"
  },
  "language_info": {
   "codemirror_mode": {
    "name": "ipython",
    "version": 3
   },
   "file_extension": ".py",
   "mimetype": "text/x-python",
   "name": "python",
   "nbconvert_exporter": "python",
   "pygments_lexer": "ipython3",
   "version": "3.12.7"
  }
 },
 "nbformat": 4,
 "nbformat_minor": 5
}
