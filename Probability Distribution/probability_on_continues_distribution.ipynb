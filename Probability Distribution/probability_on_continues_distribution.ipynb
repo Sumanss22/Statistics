{
 "cells": [
  {
   "cell_type": "markdown",
   "id": "a2805c6d",
   "metadata": {},
   "source": [
    "# Uniform Distribution"
   ]
  },
  {
   "cell_type": "markdown",
   "id": "1de85d09",
   "metadata": {},
   "source": [
    "###  A University records the time taken by students to solve the statistics assignment in 'assignment.csv’. Plot the probability distribution this data follows and answer the following questions. \n",
    "#### Use assignment.csv"
   ]
  },
  {
   "cell_type": "code",
   "execution_count": 1,
   "id": "deab85d9",
   "metadata": {},
   "outputs": [],
   "source": [
    "import numpy as np\n",
    "import pandas as pd\n",
    "import seaborn as sns\n",
    "import matplotlib.pyplot as plt\n",
    "%matplotlib inline\n",
    "import scipy.stats as stats"
   ]
  },
  {
   "cell_type": "code",
   "execution_count": 3,
   "id": "94313fd4",
   "metadata": {},
   "outputs": [],
   "source": [
    "df = pd.read_csv('assignment.csv')"
   ]
  },
  {
   "cell_type": "code",
   "execution_count": 5,
   "id": "8060501d-ae1d-465d-beee-a369c1190894",
   "metadata": {},
   "outputs": [
    {
     "data": {
      "text/html": [
       "<div>\n",
       "<style scoped>\n",
       "    .dataframe tbody tr th:only-of-type {\n",
       "        vertical-align: middle;\n",
       "    }\n",
       "\n",
       "    .dataframe tbody tr th {\n",
       "        vertical-align: top;\n",
       "    }\n",
       "\n",
       "    .dataframe thead th {\n",
       "        text-align: right;\n",
       "    }\n",
       "</style>\n",
       "<table border=\"1\" class=\"dataframe\">\n",
       "  <thead>\n",
       "    <tr style=\"text-align: right;\">\n",
       "      <th></th>\n",
       "      <th>Student_ID</th>\n",
       "      <th>Time_taken</th>\n",
       "    </tr>\n",
       "  </thead>\n",
       "  <tbody>\n",
       "    <tr>\n",
       "      <th>0</th>\n",
       "      <td>955</td>\n",
       "      <td>2.79</td>\n",
       "    </tr>\n",
       "    <tr>\n",
       "      <th>1</th>\n",
       "      <td>379</td>\n",
       "      <td>3.32</td>\n",
       "    </tr>\n",
       "    <tr>\n",
       "      <th>2</th>\n",
       "      <td>922</td>\n",
       "      <td>1.35</td>\n",
       "    </tr>\n",
       "    <tr>\n",
       "      <th>3</th>\n",
       "      <td>312</td>\n",
       "      <td>2.35</td>\n",
       "    </tr>\n",
       "    <tr>\n",
       "      <th>4</th>\n",
       "      <td>670</td>\n",
       "      <td>1.98</td>\n",
       "    </tr>\n",
       "  </tbody>\n",
       "</table>\n",
       "</div>"
      ],
      "text/plain": [
       "   Student_ID  Time_taken\n",
       "0         955        2.79\n",
       "1         379        3.32\n",
       "2         922        1.35\n",
       "3         312        2.35\n",
       "4         670        1.98"
      ]
     },
     "execution_count": 5,
     "metadata": {},
     "output_type": "execute_result"
    }
   ],
   "source": [
    "df.head()"
   ]
  },
  {
   "cell_type": "code",
   "execution_count": 19,
   "id": "1828367d-ed54-4a4c-9d0c-3cb1898c6ef3",
   "metadata": {},
   "outputs": [
    {
     "data": {
      "image/png": "[encoded data removed]",
      "text/plain": [
       "<Figure size 640x480 with 1 Axes>"
      ]
     },
     "metadata": {},
     "output_type": "display_data"
    }
   ],
   "source": [
    "sns.histplot(data=df,x='Time_taken',kde=True)\n",
    "plt.show()"
   ]
  },
  {
   "cell_type": "code",
   "execution_count": 21,
   "id": "10e6a5cf-a8bd-480c-8b81-f8c1f769bd1e",
   "metadata": {},
   "outputs": [
    {
     "data": {
      "text/html": [
       "<div>\n",
       "<style scoped>\n",
       "    .dataframe tbody tr th:only-of-type {\n",
       "        vertical-align: middle;\n",
       "    }\n",
       "\n",
       "    .dataframe tbody tr th {\n",
       "        vertical-align: top;\n",
       "    }\n",
       "\n",
       "    .dataframe thead th {\n",
       "        text-align: right;\n",
       "    }\n",
       "</style>\n",
       "<table border=\"1\" class=\"dataframe\">\n",
       "  <thead>\n",
       "    <tr style=\"text-align: right;\">\n",
       "      <th></th>\n",
       "      <th>Student_ID</th>\n",
       "      <th>Time_taken</th>\n",
       "    </tr>\n",
       "  </thead>\n",
       "  <tbody>\n",
       "    <tr>\n",
       "      <th>count</th>\n",
       "      <td>1000.000000</td>\n",
       "      <td>1000.000000</td>\n",
       "    </tr>\n",
       "    <tr>\n",
       "      <th>mean</th>\n",
       "      <td>508.611000</td>\n",
       "      <td>2.497440</td>\n",
       "    </tr>\n",
       "    <tr>\n",
       "      <th>std</th>\n",
       "      <td>293.527757</td>\n",
       "      <td>0.851082</td>\n",
       "    </tr>\n",
       "    <tr>\n",
       "      <th>min</th>\n",
       "      <td>2.000000</td>\n",
       "      <td>1.000000</td>\n",
       "    </tr>\n",
       "    <tr>\n",
       "      <th>25%</th>\n",
       "      <td>256.000000</td>\n",
       "      <td>1.767500</td>\n",
       "    </tr>\n",
       "    <tr>\n",
       "      <th>50%</th>\n",
       "      <td>525.000000</td>\n",
       "      <td>2.500000</td>\n",
       "    </tr>\n",
       "    <tr>\n",
       "      <th>75%</th>\n",
       "      <td>760.250000</td>\n",
       "      <td>3.230000</td>\n",
       "    </tr>\n",
       "    <tr>\n",
       "      <th>max</th>\n",
       "      <td>999.000000</td>\n",
       "      <td>4.000000</td>\n",
       "    </tr>\n",
       "  </tbody>\n",
       "</table>\n",
       "</div>"
      ],
      "text/plain": [
       "        Student_ID   Time_taken\n",
       "count  1000.000000  1000.000000\n",
       "mean    508.611000     2.497440\n",
       "std     293.527757     0.851082\n",
       "min       2.000000     1.000000\n",
       "25%     256.000000     1.767500\n",
       "50%     525.000000     2.500000\n",
       "75%     760.250000     3.230000\n",
       "max     999.000000     4.000000"
      ]
     },
     "execution_count": 21,
     "metadata": {},
     "output_type": "execute_result"
    }
   ],
   "source": [
    "df.describe()"
   ]
  },
  {
   "cell_type": "markdown",
   "id": "2fc38046",
   "metadata": {},
   "source": [
    "**a) Find the probability that a randomly selected Student requires at most 2.5 hours to complete the assignment.**"
   ]
  },
  {
   "cell_type": "code",
   "execution_count": 31,
   "id": "46bfccae",
   "metadata": {},
   "outputs": [
    {
     "data": {
      "text/plain": [
       "0.5"
      ]
     },
     "execution_count": 31,
     "metadata": {},
     "output_type": "execute_result"
    }
   ],
   "source": [
    "x = 2.5\n",
    "loc = 1 # Minimum value in Uniform Ditribution denoted as loc\n",
    "scale = 4-1  # Max-Min value\n",
    "stats.uniform.cdf(x,loc,scale)"
   ]
  },
  {
   "cell_type": "markdown",
   "id": "ca323ee7",
   "metadata": {},
   "source": [
    "**b) Find the probability that a randomly selected student requires at least 3 hours to complete the assignment.**"
   ]
  },
  {
   "cell_type": "code",
   "execution_count": 33,
   "id": "8ea7b26e",
   "metadata": {},
   "outputs": [
    {
     "data": {
      "text/plain": [
       "0.6666666666666666"
      ]
     },
     "execution_count": 33,
     "metadata": {},
     "output_type": "execute_result"
    }
   ],
   "source": [
    "x = 3\n",
    "stats.uniform.cdf(x,loc,scale)"
   ]
  },
  {
   "cell_type": "markdown",
   "id": "8f7e4f00",
   "metadata": {},
   "source": [
    "**c) Find the probability that a randomly selected student requires 1.5 to 3.5 hours to complete the assignment.**"
   ]
  },
  {
   "cell_type": "code",
   "execution_count": 37,
   "id": "1003d36d",
   "metadata": {},
   "outputs": [
    {
     "data": {
      "text/plain": [
       "0.6666666666666667"
      ]
     },
     "execution_count": 37,
     "metadata": {},
     "output_type": "execute_result"
    }
   ],
   "source": [
    "x1 = 3.5\n",
    "x2 = 1.5\n",
    "stats.uniform.cdf(x1,loc,scale) - stats.uniform.cdf(x2,loc,scale)  # Visualize on a plot"
   ]
  },
  {
   "cell_type": "markdown",
   "id": "a6cc5b64",
   "metadata": {},
   "source": [
    "### The time a car spends in a parking lot follows a uniform distribution between 1 and 4 hours. What is the probability that the car spends more than 2 hours in the parking lot?"
   ]
  },
  {
   "cell_type": "code",
   "execution_count": 39,
   "id": "a2c0f1ef",
   "metadata": {},
   "outputs": [
    {
     "data": {
      "text/plain": [
       "0.6666666666666667"
      ]
     },
     "execution_count": 39,
     "metadata": {},
     "output_type": "execute_result"
    }
   ],
   "source": [
    "loc = 1\n",
    "scale = 4 - 1\n",
    "x = 2\n",
    "1 - stats.uniform.cdf(x,loc,scale) "
   ]
  },
  {
   "cell_type": "markdown",
   "id": "c13da246",
   "metadata": {},
   "source": [
    "### The lifespan of a certain type of battery is uniformly distributed between 100 and 150 hours. What is the probability that a randomly selected battery lasts more than 120 hours?"
   ]
  },
  {
   "cell_type": "code",
   "execution_count": 41,
   "id": "ae157d38",
   "metadata": {},
   "outputs": [
    {
     "data": {
      "text/plain": [
       "0.6"
      ]
     },
     "execution_count": 41,
     "metadata": {},
     "output_type": "execute_result"
    }
   ],
   "source": [
    "loc = 100\n",
    "scale = 150-100\n",
    "x = 120\n",
    "1 - stats.uniform.cdf(x,loc,scale)"
   ]
  },
  {
   "cell_type": "markdown",
   "id": "ff400658",
   "metadata": {},
   "source": [
    "# Normal Distribution"
   ]
  },
  {
   "cell_type": "markdown",
   "id": "d13718f5",
   "metadata": {},
   "source": [
    "4)\tAccording to the Telecommunication Industry the average monthly cell phone bill is Rs. 850 with a standard deviation of Rs. 150. \n",
    "\n",
    "-   What is the probability that a randomly selected cell phone bill is more than Rs 1200?\n",
    "-\tWhat is the probability that a randomly selected cell phone bill is between Rs 750 and Rs 1200?\n",
    "-\tWhat is the probability that a randomly selected cell phone bill is no more than Rs 650?\n",
    "-\tWhat is the amount above which lies top 15% of cell phone bills?\n",
    "-\tWhat is the amount below which lies bottom 25% of cell phone bills?"
   ]
  },
  {
   "cell_type": "code",
   "execution_count": 43,
   "id": "3d5c148e",
   "metadata": {},
   "outputs": [
    {
     "data": {
      "text/plain": [
       "0.009815328628645315"
      ]
     },
     "execution_count": 43,
     "metadata": {},
     "output_type": "execute_result"
    }
   ],
   "source": [
    "# Probability that a randomly selected cell phone bill is more than Rs 1200\n",
    "1 - stats.norm.cdf(x=1200,loc=850,scale=150) # Here, loc = mean and scale = Standard Deviation"
   ]
  },
  {
   "cell_type": "code",
   "execution_count": 45,
   "id": "16205f70",
   "metadata": {},
   "outputs": [
    {
     "data": {
      "text/plain": [
       "0.7376921338244318"
      ]
     },
     "execution_count": 45,
     "metadata": {},
     "output_type": "execute_result"
    }
   ],
   "source": [
    "# Probability that a randomly selected cell phone bill is between Rs 750 and Rs 1200\n",
    "stats.norm.cdf(x=1200,loc=850,scale=150) - stats.norm.cdf(x=750,loc=850,scale=150)"
   ]
  },
  {
   "cell_type": "code",
   "execution_count": 47,
   "id": "bd1f95f8-0aa2-4b47-9454-89bfd5833962",
   "metadata": {},
   "outputs": [
    {
     "data": {
      "text/plain": [
       "0.09121121972586788"
      ]
     },
     "execution_count": 47,
     "metadata": {},
     "output_type": "execute_result"
    }
   ],
   "source": [
    "# Probability that a randomly selected cell phone bill is no more than Rs 650\n",
    "stats.norm.cdf(x=650,loc=850,scale=150)"
   ]
  },
  {
   "cell_type": "code",
   "execution_count": 63,
   "id": "007a2847-8e87-4bf8-857e-f5495b7c7f45",
   "metadata": {},
   "outputs": [
    {
     "data": {
      "text/plain": [
       "1005.4650084240685"
      ]
     },
     "execution_count": 63,
     "metadata": {},
     "output_type": "execute_result"
    }
   ],
   "source": [
    "# Amount above which lies top 15% of cell phone bills\n",
    "stats.norm.ppf(q=0.85,loc=850,scale=150)  # 15% top = 85% Bottom"
   ]
  },
  {
   "cell_type": "code",
   "execution_count": 65,
   "id": "a5456fd8-6554-4e21-a143-20e9c2da031a",
   "metadata": {},
   "outputs": [
    {
     "data": {
      "text/plain": [
       "748.8265374705877"
      ]
     },
     "execution_count": 65,
     "metadata": {},
     "output_type": "execute_result"
    }
   ],
   "source": [
    "# Amount below which lies bottom 25% of cell phone bills\n",
    "stats.norm.ppf(q=0.25,loc=850,scale=150)"
   ]
  },
  {
   "cell_type": "markdown",
   "id": "a47875d8",
   "metadata": {},
   "source": [
    "### The mean filling capacity for a coke bottle is 500 ml with a standard deviation of 20 ml. Assume that it follows a normal distribution and answer the following questions.\n",
    "\n",
    "**a) What is the probability that the bottle filled less than 480 ml?**\n",
    "\n",
    "**b) What is the probability that the bottle filled more than 520 ml?**\n",
    "\n",
    "**c) What is the probability that the bottle filled between 470 ml to 525 ml?**"
   ]
  },
  {
   "cell_type": "code",
   "execution_count": 67,
   "id": "5db523b7",
   "metadata": {},
   "outputs": [
    {
     "data": {
      "text/plain": [
       "0.15865525393145707"
      ]
     },
     "execution_count": 67,
     "metadata": {},
     "output_type": "execute_result"
    }
   ],
   "source": [
    "# Probability that the bottle filled less than 480 ml\n",
    "stats.norm.cdf(x=480,loc=500,scale=20)"
   ]
  },
  {
   "cell_type": "code",
   "execution_count": 69,
   "id": "0a605a9f",
   "metadata": {},
   "outputs": [
    {
     "data": {
      "text/plain": [
       "0.15865525393145707"
      ]
     },
     "execution_count": 69,
     "metadata": {},
     "output_type": "execute_result"
    }
   ],
   "source": [
    "# Probability that the bottle filled more than 520 ml\n",
    "1 - stats.norm.cdf(x=520,loc=500,scale=20)"
   ]
  },
  {
   "cell_type": "code",
   "execution_count": 71,
   "id": "bb98ed53-f445-40e0-88e1-7b1489e8467d",
   "metadata": {},
   "outputs": [
    {
     "data": {
      "text/plain": [
       "0.8275430250642866"
      ]
     },
     "execution_count": 71,
     "metadata": {},
     "output_type": "execute_result"
    }
   ],
   "source": [
    "# Probability that the bottle filled between 470 ml to 525 ml\n",
    "stats.norm.cdf(x=525,loc=500,scale=20) - stats.norm.cdf(x=470,loc=500,scale=20)"
   ]
  },
  {
   "cell_type": "markdown",
   "id": "7c4a96c8",
   "metadata": {},
   "source": [
    "### The lengths of bolts produced in a factory are normally distributed with a mean of 8 inches and a standard deviation of 0.2 inches. \n",
    "\n",
    "- If the acceptable length range is between 7.8 and 8.2 inches, what percentage of bolts meet the quality standard?\n",
    "- What is the probability that a randomly selected bolt has a length greater than 7 inches?\n",
    "- what is the probability that the average length of the sample is less than 7.95 inches?\n",
    "- If the factory considers bolts with lengths above which 90% of bolts fall as \"high-quality,\" what is the length threshold for high-quality bolts?"
   ]
  },
  {
   "cell_type": "code",
   "execution_count": 75,
   "id": "e0dfff45",
   "metadata": {},
   "outputs": [
    {
     "data": {
      "text/plain": [
       "68.26894921370852"
      ]
     },
     "execution_count": 75,
     "metadata": {},
     "output_type": "execute_result"
    }
   ],
   "source": [
    "# Acceptable length range is between 7.8 and 8.2 inches, what percentage of bolts meet the quality standard\n",
    "(stats.norm.cdf(x=8.2,loc=8,scale=0.2) - stats.norm.cdf(x=7.8,loc=8,scale=0.2))*100"
   ]
  },
  {
   "cell_type": "code",
   "execution_count": 77,
   "id": "afede57b-e25b-43ce-962f-4bb40d47e618",
   "metadata": {},
   "outputs": [
    {
     "data": {
      "text/plain": [
       "0.9999997133484281"
      ]
     },
     "execution_count": 77,
     "metadata": {},
     "output_type": "execute_result"
    }
   ],
   "source": [
    "# Probability that a randomly selected bolt has a length greater than 7 inches\n",
    "1 - stats.norm.cdf(x=7,loc=8,scale=0.2)"
   ]
  },
  {
   "cell_type": "code",
   "execution_count": 79,
   "id": "d1740cf0-4de8-4d34-9f39-8ba5dd5b2d49",
   "metadata": {},
   "outputs": [
    {
     "data": {
      "text/plain": [
       "0.40129367431707663"
      ]
     },
     "execution_count": 79,
     "metadata": {},
     "output_type": "execute_result"
    }
   ],
   "source": [
    "# Probability that the average length of the sample is less than 7.95 inches\n",
    "stats.norm.cdf(x=7.95,loc=8,scale=0.2)"
   ]
  },
  {
   "cell_type": "code",
   "execution_count": 83,
   "id": "1d771359-27ab-4953-94cd-f490920dcd81",
   "metadata": {},
   "outputs": [
    {
     "data": {
      "text/plain": [
       "8.25631031310892"
      ]
     },
     "execution_count": 83,
     "metadata": {},
     "output_type": "execute_result"
    }
   ],
   "source": [
    "#  If lengths above which 90% of bolts fall as \"high-quality,\" what is the length threshold for high-quality bolts\n",
    "stats.norm.ppf(q=0.9,loc=8,scale=0.2)"
   ]
  },
  {
   "cell_type": "markdown",
   "id": "29f2ffff",
   "metadata": {},
   "source": [
    "5)\tFor on-campus recruitment Ms. Z has sat for tests by Company A and Company B. For both tests her score is 50. It is known that for Company A, scores have a normal distribution with mean 40 and standard deviation 15 whereas for Company B, scores have a normal distribution with mean 45 and standard deviation 10. Relatively speaking in which test has Ms. Z done better?"
   ]
  },
  {
   "cell_type": "code",
   "execution_count": 85,
   "id": "19f16422",
   "metadata": {},
   "outputs": [
    {
     "data": {
      "text/plain": [
       "0.7475074624530771"
      ]
     },
     "execution_count": 85,
     "metadata": {},
     "output_type": "execute_result"
    }
   ],
   "source": [
    "# Company A\n",
    "stats.norm.cdf(x=50,loc=40,scale=15)"
   ]
  },
  {
   "cell_type": "code",
   "execution_count": 87,
   "id": "a10fb882",
   "metadata": {},
   "outputs": [
    {
     "data": {
      "text/plain": [
       "0.6914624612740131"
      ]
     },
     "execution_count": 87,
     "metadata": {},
     "output_type": "execute_result"
    }
   ],
   "source": [
    "# Company B\n",
    "stats.norm.cdf(x=50,loc=45,scale=10)"
   ]
  },
  {
   "cell_type": "code",
   "execution_count": null,
   "id": "d3b5b5be-fc90-4137-832d-67e8d5146df5",
   "metadata": {},
   "outputs": [],
   "source": [
    "# Company A is better, as she is in Top 26% in case of Comapny A while Top 31% in case of Company B"
   ]
  },
  {
   "cell_type": "code",
   "execution_count": 104,
   "id": "3ca6e44d-e19a-4099-9fb9-91f46a7c8bd7",
   "metadata": {},
   "outputs": [
    {
     "data": {
      "text/plain": [
       "0.6666666666666666"
      ]
     },
     "execution_count": 104,
     "metadata": {},
     "output_type": "execute_result"
    }
   ],
   "source": [
    "# 2nd Method: Zscore\n",
    "# Company A\n",
    "mu = 40\n",
    "x = 50\n",
    "sd = 15\n",
    "Za = (x-mu)/sd\n",
    "Za"
   ]
  },
  {
   "cell_type": "code",
   "execution_count": 106,
   "id": "abd4eba3-780f-40a2-9e1c-62d99d738813",
   "metadata": {},
   "outputs": [
    {
     "data": {
      "text/plain": [
       "0.5"
      ]
     },
     "execution_count": 106,
     "metadata": {},
     "output_type": "execute_result"
    }
   ],
   "source": [
    "# Company A\n",
    "mu = 45\n",
    "x = 50\n",
    "sd = 10\n",
    "Zb = (x-mu)/sd\n",
    "Zb"
   ]
  },
  {
   "cell_type": "markdown",
   "id": "7fabc201-43a6-4077-8adc-9877e61837e1",
   "metadata": {},
   "source": [
    "During early 2012, economic hardship was stretching the limits of France welfare system. One indicator of the level of hardship was the increase in the number of people bringing items to the pawnbroker. Assume the number of people visiting the pawnshop is normally distributed with the mean of 658.\n",
    "\n",
    "a) Suppose you learn that on 3% of days, 610 or fewer people bought items to the pawnshop. What is the S.d. of the no. of people bringing items to the pawnshop.\n",
    "\n",
    "b) On any given day, what is the prob. That b/w 600 and 700 people bring items to the pawnshop\n",
    "\n",
    "c) How many people bring items to the pawnshop on the busiest 3% of days."
   ]
  },
  {
   "cell_type": "code",
   "execution_count": 168,
   "id": "59c6a440-cfa2-49c7-b1dd-23e606624a1a",
   "metadata": {},
   "outputs": [],
   "source": [
    "# a) Suppose you learn that on 3% of days, 610 or fewer people bought items to the pawnshop. \n",
    "# What is the S.d. of the no. of people bringing items to the pawnshop.\n",
    "\n",
    "mu = 658\n",
    "x = 610\n",
    "# Zscore = (x-mu)/sd -- Formula of Zscore\n",
    "# sd = (x-mu)/Zscore"
   ]
  },
  {
   "cell_type": "code",
   "execution_count": 170,
   "id": "60bed9f9-afce-4931-be75-ec4b6dfd2435",
   "metadata": {},
   "outputs": [
    {
     "data": {
      "text/plain": [
       "-1.880793608151251"
      ]
     },
     "execution_count": 170,
     "metadata": {},
     "output_type": "execute_result"
    }
   ],
   "source": [
    "Z_stats = stats.norm.ppf(q=0.03)  # Fixed value based on Z table\n",
    "Z_stats"
   ]
  },
  {
   "cell_type": "code",
   "execution_count": 172,
   "id": "48e65d55-863f-4229-95c6-0f78ce51e8ec",
   "metadata": {},
   "outputs": [
    {
     "data": {
      "text/plain": [
       "25.52114160318855"
      ]
     },
     "execution_count": 172,
     "metadata": {},
     "output_type": "execute_result"
    }
   ],
   "source": [
    "sd = (x-mu)/Z_stats\n",
    "sd"
   ]
  },
  {
   "cell_type": "code",
   "execution_count": 174,
   "id": "258256c0-d1ba-4c71-ae2b-67834ccecc03",
   "metadata": {},
   "outputs": [
    {
     "data": {
      "text/plain": [
       "0.9385622789639878"
      ]
     },
     "execution_count": 174,
     "metadata": {},
     "output_type": "execute_result"
    }
   ],
   "source": [
    "# b) On any given day, what is the prob. That b/w 600 and 700 people bring items to the pawnshop\n",
    "stats.norm.cdf(x=700,loc=mu,scale=sd) - stats.norm.cdf(x=600,loc=mu,scale=sd)"
   ]
  },
  {
   "cell_type": "code",
   "execution_count": 178,
   "id": "3afa6fba-bee0-49c6-b153-443e72913481",
   "metadata": {},
   "outputs": [
    {
     "data": {
      "text/plain": [
       "706.0"
      ]
     },
     "execution_count": 178,
     "metadata": {},
     "output_type": "execute_result"
    }
   ],
   "source": [
    "# How many people bring items to the pawnshop on the busiest 3% of days.\n",
    "stats.norm.ppf(q=0.97,loc=mu,scale=sd)  # Busiest 3% i.e. top 3% = bottom 97%"
   ]
  },
  {
   "cell_type": "markdown",
   "id": "45058a19-ec4d-4a85-9b2d-46b5bc7bf7a9",
   "metadata": {},
   "source": [
    "Delivery Time Prediction for an E-commerce Company\n",
    "\n",
    "An e-commerce company wants to guarantee fast delivery to maintain customer satisfaction. They have collected data on past delivery times and found that the delivery times (in days) are normally distributed with:\n",
    "\n",
    "Mean (μ) = 5 days\n",
    "\n",
    "Standard Deviation (σ) = 1.5 days\n",
    "\n",
    "They want to answer the following questions:\n",
    "\n",
    "What is the probability that a randomly selected order is delivered within 4 days?\n",
    "\n",
    "What proportion of orders take between 4 and 7 days to deliver?\n",
    "\n",
    "What delivery time corresponds to the fastest 10% of deliveries? (i.e., what is the 10th percentile delivery time?)\n",
    "\n",
    "If they promise delivery within 6 days, what percentage of orders will meet this promise?"
   ]
  },
  {
   "cell_type": "code",
   "execution_count": 184,
   "id": "ef0f9f48-5b45-43e3-b223-fec14b465c81",
   "metadata": {},
   "outputs": [],
   "source": [
    "Mean = 5 \n",
    "sd = 1.5"
   ]
  },
  {
   "cell_type": "code",
   "execution_count": 186,
   "id": "9a1c6f03-5c75-4af7-86d6-085ac00f76f4",
   "metadata": {},
   "outputs": [
    {
     "data": {
      "text/plain": [
       "0.2524925375469229"
      ]
     },
     "execution_count": 186,
     "metadata": {},
     "output_type": "execute_result"
    }
   ],
   "source": [
    "# Probability that a randomly selected order is delivered within 4 days\n",
    "stats.norm.cdf(x=4,loc=Mean,scale=sd)"
   ]
  },
  {
   "cell_type": "code",
   "execution_count": 188,
   "id": "d42c2612-a28b-4182-9389-f290fbbfb379",
   "metadata": {},
   "outputs": [
    {
     "data": {
      "text/plain": [
       "65.62962427272092"
      ]
     },
     "execution_count": 188,
     "metadata": {},
     "output_type": "execute_result"
    }
   ],
   "source": [
    "# Proportion of orders take between 4 and 7 days to deliver\n",
    "(stats.norm.cdf(x=7,loc=Mean,scale=sd) - stats.norm.cdf(x=4,loc=Mean,scale=sd))*100"
   ]
  },
  {
   "cell_type": "code",
   "execution_count": 198,
   "id": "3c341428-dcb3-49b9-8879-f0ef0541d5f7",
   "metadata": {},
   "outputs": [
    {
     "data": {
      "text/plain": [
       "3.0776726516830992"
      ]
     },
     "execution_count": 198,
     "metadata": {},
     "output_type": "execute_result"
    }
   ],
   "source": [
    "# What delivery time corresponds to the fastest 10% of deliveries?\n",
    "stats.norm.ppf(q=0.1,loc=Mean,scale=sd)"
   ]
  },
  {
   "cell_type": "code",
   "execution_count": 156,
   "id": "6f37ac50-dee6-46f8-9e06-173ca1814a1b",
   "metadata": {},
   "outputs": [
    {
     "data": {
      "text/plain": [
       "74.75074624530771"
      ]
     },
     "execution_count": 156,
     "metadata": {},
     "output_type": "execute_result"
    }
   ],
   "source": [
    "# If they promise delivery within 6 days, what percentage of orders will meet this promise\n",
    "stats.norm.cdf(x=6,loc=Mean,scale=sd) *100"
   ]
  }
 ],
 "metadata": {
  "kernelspec": {
   "display_name": "Python [conda env:base] *",
   "language": "python",
   "name": "conda-base-py"
  },
  "language_info": {
   "codemirror_mode": {
    "name": "ipython",
    "version": 3
   },
   "file_extension": ".py",
   "mimetype": "text/x-python",
   "name": "python",
   "nbconvert_exporter": "python",
   "pygments_lexer": "ipython3",
   "version": "3.12.7"
  }
 },
 "nbformat": 4,
 "nbformat_minor": 5
}
