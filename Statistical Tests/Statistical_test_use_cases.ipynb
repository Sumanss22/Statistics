{
 "cells": [
  {
   "cell_type": "code",
   "execution_count": 1,
   "id": "3abcc819-5c19-4d66-b0da-c42c8abafe04",
   "metadata": {},
   "outputs": [],
   "source": [
    "import numpy as np\n",
    "import pandas as pd\n",
    "import scipy.stats as stats\n",
    "import seaborn as sns\n",
    "from scipy.stats import ttest_1samp,ttest_ind,ttest_rel"
   ]
  },
  {
   "cell_type": "markdown",
   "id": "6d3a9bc0",
   "metadata": {},
   "source": [
    "## Testing the Effect of a Drug on Blood Pressure"
   ]
  },
  {
   "cell_type": "markdown",
   "id": "f1a61697",
   "metadata": {},
   "source": [
    "A researcher wants to test whether a new drug has a significant effect on lowering blood pressure. The researcher measures the blood pressure of two groups of people: one group takes the drug, and the other group takes a placebo. The blood pressures are recorded, and the researcher wants to compare the means of the two groups.\n",
    "\n",
    "Group A (Drug): [120, 125, 118, 130, 122, 115, 119]\n",
    "    \n",
    "Group B (Placebo): [132, 128, 135, 140, 138, 136, 130]\n",
    "\n",
    "Test whether the average blood pressure is different between the two groups"
   ]
  },
  {
   "cell_type": "code",
   "execution_count": 61,
   "id": "a3041c9e-67d4-45e6-bc97-7c02892211a2",
   "metadata": {},
   "outputs": [],
   "source": [
    "GroupA = [120, 125, 118, 130, 122, 115, 119]\n",
    "GroupB = [132, 128, 135, 140, 138, 136, 130]"
   ]
  },
  {
   "cell_type": "code",
   "execution_count": 11,
   "id": "6a4f1e26",
   "metadata": {},
   "outputs": [
    {
     "data": {
      "text/plain": [
       "121.28571428571429"
      ]
     },
     "execution_count": 11,
     "metadata": {},
     "output_type": "execute_result"
    }
   ],
   "source": [
    "MuD = np.mean([120, 125, 118, 130, 122, 115, 119])\n",
    "MuD"
   ]
  },
  {
   "cell_type": "code",
   "execution_count": 9,
   "id": "64ba58b4",
   "metadata": {},
   "outputs": [
    {
     "data": {
      "text/plain": [
       "134.14285714285714"
      ]
     },
     "execution_count": 9,
     "metadata": {},
     "output_type": "execute_result"
    }
   ],
   "source": [
    "MuP = np.mean([132, 128, 135, 140, 138, 136, 130])\n",
    "MuP"
   ]
  },
  {
   "cell_type": "code",
   "execution_count": 55,
   "id": "8cb4f6a8-eb2b-4cd5-9f22-fb5b60810629",
   "metadata": {},
   "outputs": [],
   "source": [
    "# H0: MuD = MuP\n",
    "# Ha: MuD < MuP  (OR MuP-MuD>0)\n",
    "# Left Tail Test\n",
    "# Two Sample --- Independent T-Test"
   ]
  },
  {
   "cell_type": "code",
   "execution_count": 63,
   "id": "cba71109-a62e-476b-97fe-432ffa6d557e",
   "metadata": {},
   "outputs": [],
   "source": [
    "tstat,P_value = ttest_ind(GroupB,GroupA,alternative='greater')"
   ]
  },
  {
   "cell_type": "code",
   "execution_count": 65,
   "id": "abac2c35-2de0-47d8-8df2-43d2e95c9bb9",
   "metadata": {},
   "outputs": [
    {
     "data": {
      "text/plain": [
       "0.00011760340733144565"
      ]
     },
     "execution_count": 65,
     "metadata": {},
     "output_type": "execute_result"
    }
   ],
   "source": [
    "P_value"
   ]
  },
  {
   "cell_type": "raw",
   "id": "037a661f-8709-4d4c-ab67-ba35ccf998d7",
   "metadata": {},
   "source": [
    "P_value is less than 0.05, Reject the H0"
   ]
  },
  {
   "cell_type": "markdown",
   "id": "bb4a200f",
   "metadata": {},
   "source": [
    "## Comparing Average Monthly Sales Between Two Stores"
   ]
  },
  {
   "cell_type": "markdown",
   "id": "a6737a9d",
   "metadata": {},
   "source": [
    "A company wants to compare the average monthly sales of two of its stores over the last year. The sales (in $1000s) for store A and store B are recorded as:\n",
    "\n",
    "Store A: [200, 210, 195, 220, 205, 215, 190, 225, 210, 200, 215, 205]\n",
    "    \n",
    "Store B: [180, 190, 185, 200, 195, 185, 210, 195, 200, 190, 205, 195]\n",
    "    \n",
    "Test whether the average monthly sales are significantly different between the two stores."
   ]
  },
  {
   "cell_type": "code",
   "execution_count": 6,
   "id": "bf5d0067-08ab-4f82-85ff-6f0ddec17b69",
   "metadata": {},
   "outputs": [],
   "source": [
    "StoreA = [200, 210, 195, 220, 205, 215, 190, 225, 210, 200, 215, 205]\n",
    "StoreB = [180, 190, 185, 200, 195, 185, 210, 195, 200, 190, 205, 195]"
   ]
  },
  {
   "cell_type": "code",
   "execution_count": 8,
   "id": "f921af75",
   "metadata": {},
   "outputs": [
    {
     "data": {
      "text/plain": [
       "207.5"
      ]
     },
     "execution_count": 8,
     "metadata": {},
     "output_type": "execute_result"
    }
   ],
   "source": [
    "MuA = np.mean([200, 210, 195, 220, 205, 215, 190, 225, 210, 200, 215, 205])\n",
    "MuA"
   ]
  },
  {
   "cell_type": "code",
   "execution_count": 10,
   "id": "359be660",
   "metadata": {},
   "outputs": [
    {
     "data": {
      "text/plain": [
       "194.16666666666666"
      ]
     },
     "execution_count": 10,
     "metadata": {},
     "output_type": "execute_result"
    }
   ],
   "source": [
    "MuB = np.mean([180, 190, 185, 200, 195, 185, 210, 195, 200, 190, 205, 195])\n",
    "MuB"
   ]
  },
  {
   "cell_type": "code",
   "execution_count": null,
   "id": "8c3f50e5-0013-4f3b-b66a-a220187fe98f",
   "metadata": {},
   "outputs": [],
   "source": [
    "# Hypothesis Formulation:\n",
    "# H0: MuA = MuB\n",
    "# Ha: MuA != MuB\n",
    "# Two Tailed Test\n",
    "# Two Sample Test --- Independent"
   ]
  },
  {
   "cell_type": "code",
   "execution_count": 12,
   "id": "ea3f8ca9-cfd0-4646-aca1-b9a6d49e2255",
   "metadata": {},
   "outputs": [],
   "source": [
    "tstat,P_value = ttest_ind(StoreA,StoreB)"
   ]
  },
  {
   "cell_type": "code",
   "execution_count": 14,
   "id": "8e673730-209a-482a-8a98-da6227244298",
   "metadata": {},
   "outputs": [
    {
     "data": {
      "text/plain": [
       "3.4112114616897697"
      ]
     },
     "execution_count": 14,
     "metadata": {},
     "output_type": "execute_result"
    }
   ],
   "source": [
    "tstat"
   ]
  },
  {
   "cell_type": "code",
   "execution_count": 71,
   "id": "798f1f80-41e0-49df-85eb-0ce8a20f4bd5",
   "metadata": {},
   "outputs": [
    {
     "data": {
      "text/plain": [
       "0.0025034055891960906"
      ]
     },
     "execution_count": 71,
     "metadata": {},
     "output_type": "execute_result"
    }
   ],
   "source": [
    "P_value"
   ]
  },
  {
   "cell_type": "raw",
   "id": "656a542e-02c9-494b-a275-3e260e6bf9fa",
   "metadata": {},
   "source": [
    "P_value is less than 0.05, Null will Go ---- Reject H0"
   ]
  },
  {
   "cell_type": "markdown",
   "id": "1cdbb185",
   "metadata": {},
   "source": [
    "## Evaluating the Effectiveness of a Weight Loss Program\n",
    "\n",
    "A nutritionist wants to determine if a specific weight loss program is effective. A group of individuals is weighed at the beginning of the program and again after following the program for three months. The nutritionist collects the weight measurements to compare the two conditions.\n",
    "\n",
    "Initial Weights (kg): [85, 88, 75, 90, 95, 80, 85, 86, 87, 89]\n",
    "    \n",
    "Post-Program Weights (kg): [80, 85, 73, 88, 90, 78, 82, 83, 84, 86]\n",
    "    \n",
    "Test whether the weight loss program results in a statistically significant reduction in weight."
   ]
  },
  {
   "cell_type": "code",
   "execution_count": 75,
   "id": "f0974c48-59ba-4a6b-b80f-0745842bfa4d",
   "metadata": {},
   "outputs": [],
   "source": [
    "Initial_Weights = [85, 88, 75, 90, 95, 80, 85, 86, 87, 89]\n",
    "Post_Program = [80, 85, 73, 88, 90, 78, 82, 83, 84, 86]"
   ]
  },
  {
   "cell_type": "code",
   "execution_count": 17,
   "id": "cac1e820",
   "metadata": {},
   "outputs": [
    {
     "data": {
      "text/plain": [
       "86.0"
      ]
     },
     "execution_count": 17,
     "metadata": {},
     "output_type": "execute_result"
    }
   ],
   "source": [
    "Mu_Initial = np.mean([85, 88, 75, 90, 95, 80, 85, 86, 87, 89])\n",
    "Mu_Initial"
   ]
  },
  {
   "cell_type": "code",
   "execution_count": 19,
   "id": "0061da78",
   "metadata": {},
   "outputs": [
    {
     "data": {
      "text/plain": [
       "82.9"
      ]
     },
     "execution_count": 19,
     "metadata": {},
     "output_type": "execute_result"
    }
   ],
   "source": [
    "Mu_post = np.mean([80, 85, 73, 88, 90, 78, 82, 83, 84, 86])\n",
    "Mu_post"
   ]
  },
  {
   "cell_type": "code",
   "execution_count": 77,
   "id": "7421edd3-abd4-4182-8f9c-7ddb7d8b2cdd",
   "metadata": {},
   "outputs": [],
   "source": [
    "# Hypothesis Formulation:\n",
    "# H0: Mu_Post < Mu_Initial\n",
    "# Ha: Mu_Post >= Mu_Initial\n",
    "# Right Tailed Test\n",
    "# Two Sample Test --- Related"
   ]
  },
  {
   "cell_type": "code",
   "execution_count": 79,
   "id": "6f19067d-ebe9-4e80-942e-595ecbb93bb0",
   "metadata": {},
   "outputs": [],
   "source": [
    "tstat,P_value = ttest_rel(Initial_Weights,Post_Program,alternative='greater')"
   ]
  },
  {
   "cell_type": "code",
   "execution_count": 83,
   "id": "d4825205-a2de-4b58-a302-d2bf60b4778c",
   "metadata": {},
   "outputs": [
    {
     "data": {
      "text/plain": [
       "0.9999953560796521"
      ]
     },
     "execution_count": 83,
     "metadata": {},
     "output_type": "execute_result"
    }
   ],
   "source": [
    "1-P_value"
   ]
  },
  {
   "cell_type": "raw",
   "id": "47486909-85e2-4acd-99cf-5b78b6c65d80",
   "metadata": {},
   "source": [
    "P_value is greater than 0.05, Hence Null will Fly ---- Failed to Reject H0"
   ]
  },
  {
   "cell_type": "markdown",
   "id": "56b7103a",
   "metadata": {},
   "source": [
    "## Effect of a New Training Regimen on Athletic Performance\n",
    "A sports coach wants to know if a new training regimen has improved the performance of a group of athletes. The athletes' performance is measured using two metrics: once during the standard training regimen and once after using the new training regimen.\n",
    "\n",
    "Standard Training: [12.5, 13.0, 11.8, 12.2, 12.7, 13.1]\n",
    "\n",
    "New Training: [11.8, 12.3, 11.2, 11.9, 12.1, 12.5]\n",
    "\n",
    "Test whether the new training regimen significantly improves athletic performance."
   ]
  },
  {
   "cell_type": "code",
   "execution_count": 85,
   "id": "6cd7021a-a9ac-4b16-83a4-ccc0de3ad8d5",
   "metadata": {},
   "outputs": [],
   "source": [
    "Standard_Training = [12.5, 13.0, 11.8, 12.2, 12.7, 13.1]\n",
    "New_Training = [11.8, 12.3, 11.2, 11.9, 12.1, 12.5]"
   ]
  },
  {
   "cell_type": "code",
   "execution_count": 21,
   "id": "4022f240",
   "metadata": {},
   "outputs": [
    {
     "data": {
      "text/plain": [
       "12.549999999999999"
      ]
     },
     "execution_count": 21,
     "metadata": {},
     "output_type": "execute_result"
    }
   ],
   "source": [
    "Mu_Std_Training = np.mean([12.5, 13.0, 11.8, 12.2, 12.7, 13.1])\n",
    "Mu_Std_Training"
   ]
  },
  {
   "cell_type": "code",
   "execution_count": 23,
   "id": "a72d68c0",
   "metadata": {},
   "outputs": [
    {
     "data": {
      "text/plain": [
       "11.966666666666667"
      ]
     },
     "execution_count": 23,
     "metadata": {},
     "output_type": "execute_result"
    }
   ],
   "source": [
    "Mu_New_Training = np.mean([11.8, 12.3, 11.2, 11.9, 12.1, 12.5])\n",
    "Mu_New_Training"
   ]
  },
  {
   "cell_type": "code",
   "execution_count": null,
   "id": "c5604310-ec8b-4af4-978c-98425fcf9c68",
   "metadata": {},
   "outputs": [],
   "source": [
    "# Hypothesis Formulation:\n",
    "# H0: Mu_New_Training - Mu_Std_Training =0 --- Md<=0"
   ]
  },
  {
   "cell_type": "markdown",
   "id": "6f62393a",
   "metadata": {},
   "source": [
    "## Titan Case study"
   ]
  },
  {
   "cell_type": "markdown",
   "id": "636154d9",
   "metadata": {},
   "source": [
    "The Titan Insurance Company has just installed a new incentive payment scheme for its life policy sales-force. It wants to have an early view of the success or failure of the new scheme. Indications are that the sales force is selling more policies but sales always vary in an unpredictable pattern from month to month and it is not clear that the scheme has made a significant difference. Life Insurance companies typically measure the monthly output of a salesperson as the total sum assured for the policies sold by that person during the month.\n",
    "\n",
    "Titan's new scheme is that the sales force receive low regular salaries but are paid large bonuses related to their output (i.e. to the total sum assured of policies sold by them). The scheme is expensive for the company but they are looking for sales increases to compensate for it. The scheme has now been in operation for four months. It has settled down after fluctuations in the first two months due to the changeover.\n",
    "\n",
    "To test the effectiveness of the scheme, Titan has taken a random sample of 30 salespeople measured their output in the penultimate month prior to changeover and then measured it in the fourth month after the changeover (they have deliberately chosen months not too close to the changeover).\n",
    "\n",
    "At the 0.05 level of significance, can we are required to statistically conclude that the new incentive scheme has led to a significant increase in the monthly sales output of the salesforce?"
   ]
  },
  {
   "cell_type": "code",
   "execution_count": 26,
   "id": "b7564f84",
   "metadata": {},
   "outputs": [],
   "source": [
    "# Load the dataset\n",
    "df = pd.read_csv('Titan+Case+Study-1.csv')"
   ]
  },
  {
   "cell_type": "code",
   "execution_count": 29,
   "id": "6863d7cb-615f-4f51-8e3b-4ef7aa3d8ae5",
   "metadata": {},
   "outputs": [
    {
     "data": {
      "text/html": [
       "<div>\n",
       "<style scoped>\n",
       "    .dataframe tbody tr th:only-of-type {\n",
       "        vertical-align: middle;\n",
       "    }\n",
       "\n",
       "    .dataframe tbody tr th {\n",
       "        vertical-align: top;\n",
       "    }\n",
       "\n",
       "    .dataframe thead th {\n",
       "        text-align: right;\n",
       "    }\n",
       "</style>\n",
       "<table border=\"1\" class=\"dataframe\">\n",
       "  <thead>\n",
       "    <tr style=\"text-align: right;\">\n",
       "      <th></th>\n",
       "      <th>Salesperson</th>\n",
       "      <th>Old Scheme</th>\n",
       "      <th>New Scheme</th>\n",
       "    </tr>\n",
       "  </thead>\n",
       "  <tbody>\n",
       "    <tr>\n",
       "      <th>count</th>\n",
       "      <td>30.000000</td>\n",
       "      <td>30.000000</td>\n",
       "      <td>30.000000</td>\n",
       "    </tr>\n",
       "    <tr>\n",
       "      <th>mean</th>\n",
       "      <td>15.500000</td>\n",
       "      <td>68.033333</td>\n",
       "      <td>72.033333</td>\n",
       "    </tr>\n",
       "    <tr>\n",
       "      <th>std</th>\n",
       "      <td>8.803408</td>\n",
       "      <td>20.455980</td>\n",
       "      <td>24.062395</td>\n",
       "    </tr>\n",
       "    <tr>\n",
       "      <th>min</th>\n",
       "      <td>1.000000</td>\n",
       "      <td>28.000000</td>\n",
       "      <td>32.000000</td>\n",
       "    </tr>\n",
       "    <tr>\n",
       "      <th>25%</th>\n",
       "      <td>8.250000</td>\n",
       "      <td>54.000000</td>\n",
       "      <td>55.000000</td>\n",
       "    </tr>\n",
       "    <tr>\n",
       "      <th>50%</th>\n",
       "      <td>15.500000</td>\n",
       "      <td>67.000000</td>\n",
       "      <td>74.000000</td>\n",
       "    </tr>\n",
       "    <tr>\n",
       "      <th>75%</th>\n",
       "      <td>22.750000</td>\n",
       "      <td>81.500000</td>\n",
       "      <td>85.750000</td>\n",
       "    </tr>\n",
       "    <tr>\n",
       "      <th>max</th>\n",
       "      <td>30.000000</td>\n",
       "      <td>110.000000</td>\n",
       "      <td>122.000000</td>\n",
       "    </tr>\n",
       "  </tbody>\n",
       "</table>\n",
       "</div>"
      ],
      "text/plain": [
       "       Salesperson  Old Scheme  New Scheme\n",
       "count    30.000000   30.000000   30.000000\n",
       "mean     15.500000   68.033333   72.033333\n",
       "std       8.803408   20.455980   24.062395\n",
       "min       1.000000   28.000000   32.000000\n",
       "25%       8.250000   54.000000   55.000000\n",
       "50%      15.500000   67.000000   74.000000\n",
       "75%      22.750000   81.500000   85.750000\n",
       "max      30.000000  110.000000  122.000000"
      ]
     },
     "execution_count": 29,
     "metadata": {},
     "output_type": "execute_result"
    }
   ],
   "source": [
    "df.describe()"
   ]
  },
  {
   "cell_type": "markdown",
   "id": "1e023d89",
   "metadata": {},
   "source": [
    "### Describe the statistical test you would apply to this data to determine whether new scheme has significantly raised outputs?"
   ]
  },
  {
   "cell_type": "raw",
   "id": "a8f8fa9b-e6a8-42d2-b035-446a3d0ef0b8",
   "metadata": {},
   "source": [
    "Two Sample Test --- Paired \n",
    "T-Test"
   ]
  },
  {
   "cell_type": "code",
   "execution_count": null,
   "id": "7f8ff24a",
   "metadata": {},
   "outputs": [],
   "source": [
    "# Hypotthesis formulation:\n",
    "# H0: Mu_New_Scheme - Mu_Old_Scheme = 0 ---- Md <= 0\n",
    "# Ha: Mu_New_Scheme - Mu_Old_Scheme > 0 ---- Md > 0\n",
    "# One Tail --- Right Tail Test"
   ]
  },
  {
   "cell_type": "code",
   "execution_count": 28,
   "id": "49ca120f-cf61-4b6a-b344-944cdb3ad44c",
   "metadata": {},
   "outputs": [],
   "source": [
    "tstat,P_value = ttest_rel(df['New Scheme'],df['Old Scheme'],alternative='greater')"
   ]
  },
  {
   "cell_type": "code",
   "execution_count": 30,
   "id": "cb053267-5484-420a-bf9f-695f18e6d3d9",
   "metadata": {},
   "outputs": [
    {
     "data": {
      "text/plain": [
       "1.5559143823544377"
      ]
     },
     "execution_count": 30,
     "metadata": {},
     "output_type": "execute_result"
    }
   ],
   "source": [
    "tstat"
   ]
  },
  {
   "cell_type": "code",
   "execution_count": 34,
   "id": "03b42adb-19ee-4311-b0a5-26452dcaef03",
   "metadata": {},
   "outputs": [
    {
     "data": {
      "text/plain": [
       "1.6991270265334972"
      ]
     },
     "execution_count": 34,
     "metadata": {},
     "output_type": "execute_result"
    }
   ],
   "source": [
    "tcrit=stats.t.ppf(0.95,29)\n",
    "tcrit"
   ]
  },
  {
   "cell_type": "code",
   "execution_count": 36,
   "id": "51c72b18-953f-42a9-bf97-f80406b66cc3",
   "metadata": {},
   "outputs": [
    {
     "data": {
      "text/plain": [
       "0.06528776980668831"
      ]
     },
     "execution_count": 36,
     "metadata": {},
     "output_type": "execute_result"
    }
   ],
   "source": [
    "P_value"
   ]
  },
  {
   "cell_type": "raw",
   "id": "9293a7fa-a7e8-44ab-b10d-791627034a77",
   "metadata": {},
   "source": [
    "P_value is greater than 0.05, Null will Fly ---- Failed to reject H0"
   ]
  },
  {
   "cell_type": "markdown",
   "id": "41dbe8b2",
   "metadata": {},
   "source": [
    "### Suppose it has been calculated that in order for Titan to break even, the average output must increase by £5000. what is:"
   ]
  },
  {
   "cell_type": "markdown",
   "id": "ed33f133",
   "metadata": {},
   "source": [
    "### Assuming this as your population parameter\n",
    "- The probability of a type 1 error?\n",
    "- The probability of a type 2 error?\n",
    "- The power of the test?"
   ]
  },
  {
   "cell_type": "code",
   "execution_count": null,
   "id": "d536583a",
   "metadata": {},
   "outputs": [],
   "source": [
    "alpha=0.05 # Type 1 Error"
   ]
  },
  {
   "cell_type": "code",
   "execution_count": 38,
   "id": "b95fa545-dd6b-4d0b-9c42-9bad507c29f1",
   "metadata": {},
   "outputs": [],
   "source": [
    "df['Diff'] = df['New Scheme'] - df['Old Scheme']"
   ]
  },
  {
   "cell_type": "code",
   "execution_count": 40,
   "id": "5fe98565-bcd8-499d-a33e-3c3c55630db4",
   "metadata": {},
   "outputs": [
    {
     "data": {
      "text/html": [
       "<div>\n",
       "<style scoped>\n",
       "    .dataframe tbody tr th:only-of-type {\n",
       "        vertical-align: middle;\n",
       "    }\n",
       "\n",
       "    .dataframe tbody tr th {\n",
       "        vertical-align: top;\n",
       "    }\n",
       "\n",
       "    .dataframe thead th {\n",
       "        text-align: right;\n",
       "    }\n",
       "</style>\n",
       "<table border=\"1\" class=\"dataframe\">\n",
       "  <thead>\n",
       "    <tr style=\"text-align: right;\">\n",
       "      <th></th>\n",
       "      <th>Salesperson</th>\n",
       "      <th>Old Scheme</th>\n",
       "      <th>New Scheme</th>\n",
       "      <th>Diff</th>\n",
       "    </tr>\n",
       "  </thead>\n",
       "  <tbody>\n",
       "    <tr>\n",
       "      <th>0</th>\n",
       "      <td>1</td>\n",
       "      <td>57</td>\n",
       "      <td>62</td>\n",
       "      <td>5</td>\n",
       "    </tr>\n",
       "  </tbody>\n",
       "</table>\n",
       "</div>"
      ],
      "text/plain": [
       "   Salesperson  Old Scheme  New Scheme  Diff\n",
       "0            1          57          62     5"
      ]
     },
     "execution_count": 40,
     "metadata": {},
     "output_type": "execute_result"
    }
   ],
   "source": [
    "df.head(1)"
   ]
  },
  {
   "cell_type": "code",
   "execution_count": 42,
   "id": "c8cbde54-9311-4c09-a012-31f8ea190735",
   "metadata": {},
   "outputs": [
    {
     "data": {
      "text/html": [
       "<div>\n",
       "<style scoped>\n",
       "    .dataframe tbody tr th:only-of-type {\n",
       "        vertical-align: middle;\n",
       "    }\n",
       "\n",
       "    .dataframe tbody tr th {\n",
       "        vertical-align: top;\n",
       "    }\n",
       "\n",
       "    .dataframe thead th {\n",
       "        text-align: right;\n",
       "    }\n",
       "</style>\n",
       "<table border=\"1\" class=\"dataframe\">\n",
       "  <thead>\n",
       "    <tr style=\"text-align: right;\">\n",
       "      <th></th>\n",
       "      <th>Salesperson</th>\n",
       "      <th>Old Scheme</th>\n",
       "      <th>New Scheme</th>\n",
       "      <th>Diff</th>\n",
       "    </tr>\n",
       "  </thead>\n",
       "  <tbody>\n",
       "    <tr>\n",
       "      <th>count</th>\n",
       "      <td>30.000000</td>\n",
       "      <td>30.000000</td>\n",
       "      <td>30.000000</td>\n",
       "      <td>30.000000</td>\n",
       "    </tr>\n",
       "    <tr>\n",
       "      <th>mean</th>\n",
       "      <td>15.500000</td>\n",
       "      <td>68.033333</td>\n",
       "      <td>72.033333</td>\n",
       "      <td>4.000000</td>\n",
       "    </tr>\n",
       "    <tr>\n",
       "      <th>std</th>\n",
       "      <td>8.803408</td>\n",
       "      <td>20.455980</td>\n",
       "      <td>24.062395</td>\n",
       "      <td>14.081046</td>\n",
       "    </tr>\n",
       "    <tr>\n",
       "      <th>min</th>\n",
       "      <td>1.000000</td>\n",
       "      <td>28.000000</td>\n",
       "      <td>32.000000</td>\n",
       "      <td>-34.000000</td>\n",
       "    </tr>\n",
       "    <tr>\n",
       "      <th>25%</th>\n",
       "      <td>8.250000</td>\n",
       "      <td>54.000000</td>\n",
       "      <td>55.000000</td>\n",
       "      <td>-6.750000</td>\n",
       "    </tr>\n",
       "    <tr>\n",
       "      <th>50%</th>\n",
       "      <td>15.500000</td>\n",
       "      <td>67.000000</td>\n",
       "      <td>74.000000</td>\n",
       "      <td>7.500000</td>\n",
       "    </tr>\n",
       "    <tr>\n",
       "      <th>75%</th>\n",
       "      <td>22.750000</td>\n",
       "      <td>81.500000</td>\n",
       "      <td>85.750000</td>\n",
       "      <td>16.000000</td>\n",
       "    </tr>\n",
       "    <tr>\n",
       "      <th>max</th>\n",
       "      <td>30.000000</td>\n",
       "      <td>110.000000</td>\n",
       "      <td>122.000000</td>\n",
       "      <td>25.000000</td>\n",
       "    </tr>\n",
       "  </tbody>\n",
       "</table>\n",
       "</div>"
      ],
      "text/plain": [
       "       Salesperson  Old Scheme  New Scheme       Diff\n",
       "count    30.000000   30.000000   30.000000  30.000000\n",
       "mean     15.500000   68.033333   72.033333   4.000000\n",
       "std       8.803408   20.455980   24.062395  14.081046\n",
       "min       1.000000   28.000000   32.000000 -34.000000\n",
       "25%       8.250000   54.000000   55.000000  -6.750000\n",
       "50%      15.500000   67.000000   74.000000   7.500000\n",
       "75%      22.750000   81.500000   85.750000  16.000000\n",
       "max      30.000000  110.000000  122.000000  25.000000"
      ]
     },
     "execution_count": 42,
     "metadata": {},
     "output_type": "execute_result"
    }
   ],
   "source": [
    "df.describe()"
   ]
  },
  {
   "cell_type": "code",
   "execution_count": 44,
   "id": "20e48b48-4d6f-45eb-a2e0-6ac15a714950",
   "metadata": {},
   "outputs": [],
   "source": [
    "SE = 14.081046/np.sqrt(30)"
   ]
  },
  {
   "cell_type": "code",
   "execution_count": 46,
   "id": "4c4947d2-25d8-444c-a18c-cc3e0f14f945",
   "metadata": {},
   "outputs": [
    {
     "data": {
      "text/plain": [
       "4.368176094378901"
      ]
     },
     "execution_count": 46,
     "metadata": {},
     "output_type": "execute_result"
    }
   ],
   "source": [
    "### Approah 1 --- Calculating critical\n",
    "Dcrit = stats.t.ppf(0.95,29,loc=0,scale=SE)\n",
    "Dcrit"
   ]
  },
  {
   "cell_type": "code",
   "execution_count": 48,
   "id": "4b776546",
   "metadata": {},
   "outputs": [
    {
     "data": {
      "text/plain": [
       "0.4040692488441061"
      ]
     },
     "execution_count": 48,
     "metadata": {},
     "output_type": "execute_result"
    }
   ],
   "source": [
    "Beta=stats.t.cdf(4.37,29,loc=5,scale=SE)\n",
    "Beta"
   ]
  },
  {
   "cell_type": "code",
   "execution_count": 58,
   "id": "3e3d8755-a5e2-4e01-8db2-0de3113a5979",
   "metadata": {},
   "outputs": [
    {
     "data": {
      "text/plain": [
       "0.5959307511558939"
      ]
     },
     "execution_count": 58,
     "metadata": {},
     "output_type": "execute_result"
    }
   ],
   "source": [
    "# Power of Test = 1- Beta\n",
    "PowTest = 1-Beta\n",
    "PowTest"
   ]
  },
  {
   "cell_type": "code",
   "execution_count": 60,
   "id": "bde031a4-71cc-4465-8046-7de2c2f9f3af",
   "metadata": {},
   "outputs": [
    {
     "data": {
      "text/plain": [
       "-0.24576597894765126"
      ]
     },
     "execution_count": 60,
     "metadata": {},
     "output_type": "execute_result"
    }
   ],
   "source": [
    "### Approah 2 --- Finding Tstat using formula\n",
    "tstat = (Dcrit-5)/SE \n",
    "tstat"
   ]
  },
  {
   "cell_type": "code",
   "execution_count": 64,
   "id": "fd17eb29-4342-4cbb-927b-2a4f89d9e57c",
   "metadata": {},
   "outputs": [
    {
     "data": {
      "text/plain": [
       "0.4037972419222782"
      ]
     },
     "execution_count": 64,
     "metadata": {},
     "output_type": "execute_result"
    }
   ],
   "source": [
    "beta_2 = stats.t.cdf(tstat,29)\n",
    "beta_2"
   ]
  },
  {
   "cell_type": "code",
   "execution_count": 66,
   "id": "e90f4cda-2e9e-453e-b62e-7dc6dc678d94",
   "metadata": {},
   "outputs": [],
   "source": [
    "### Approah 3 --- Using Function\n",
    "from statsmodels.stats.power import tt_solve_power"
   ]
  },
  {
   "cell_type": "code",
   "execution_count": 72,
   "id": "339423d3-c791-4a1d-841e-8f598060b6a1",
   "metadata": {},
   "outputs": [
    {
     "data": {
      "text/plain": [
       "0.6003938115474269"
      ]
     },
     "execution_count": 72,
     "metadata": {},
     "output_type": "execute_result"
    }
   ],
   "source": [
    "Pow_Test = tt_solve_power(effect_size=5/14.081046,nobs=30,alpha=0.05,power=None,alternative='larger')\n",
    "Pow_Test"
   ]
  },
  {
   "cell_type": "code",
   "execution_count": 74,
   "id": "e6f38188-b2a2-48f0-9cee-20699e507ab0",
   "metadata": {},
   "outputs": [
    {
     "data": {
      "text/plain": [
       "0.3996061884525731"
      ]
     },
     "execution_count": 74,
     "metadata": {},
     "output_type": "execute_result"
    }
   ],
   "source": [
    "Beta_3 = 1-Pow_Test\n",
    "Beta_3"
   ]
  },
  {
   "cell_type": "raw",
   "id": "1a162806-00e4-4bee-b255-357d3ae37663",
   "metadata": {},
   "source": [
    "Both Beta and Power of Test cannot be found in Real Time as we need Population Parameters to calculate them."
   ]
  },
  {
   "cell_type": "markdown",
   "id": "a689806f",
   "metadata": {},
   "source": [
    "### What sample size would make the probabilities of type 1 and type 2 errors equal?"
   ]
  },
  {
   "cell_type": "code",
   "execution_count": null,
   "id": "5d0b2009",
   "metadata": {},
   "outputs": [],
   "source": [
    "# We Need: Alpha = Beta"
   ]
  },
  {
   "cell_type": "code",
   "execution_count": 76,
   "id": "7263556c",
   "metadata": {},
   "outputs": [
    {
     "data": {
      "text/plain": [
       "87.20337749136235"
      ]
     },
     "execution_count": 76,
     "metadata": {},
     "output_type": "execute_result"
    }
   ],
   "source": [
    "tt_solve_power(effect_size=5/14.081046,nobs=None,alpha=0.05,power=0.95,alternative='larger')"
   ]
  }
 ],
 "metadata": {
  "kernelspec": {
   "display_name": "Python [conda env:base] *",
   "language": "python",
   "name": "conda-base-py"
  },
  "language_info": {
   "codemirror_mode": {
    "name": "ipython",
    "version": 3
   },
   "file_extension": ".py",
   "mimetype": "text/x-python",
   "name": "python",
   "nbconvert_exporter": "python",
   "pygments_lexer": "ipython3",
   "version": "3.12.7"
  }
 },
 "nbformat": 4,
 "nbformat_minor": 5
}
